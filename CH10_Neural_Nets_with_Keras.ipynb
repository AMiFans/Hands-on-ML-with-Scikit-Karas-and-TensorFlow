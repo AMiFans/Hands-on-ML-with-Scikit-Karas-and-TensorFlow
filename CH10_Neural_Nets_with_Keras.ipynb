{
 "cells": [
  {
   "cell_type": "markdown",
   "metadata": {},
   "source": [
    "# Setup"
   ]
  },
  {
   "cell_type": "code",
   "execution_count": 1,
   "metadata": {},
   "outputs": [],
   "source": [
    "# Python ≥3.5 is required\n",
    "import sys\n",
    "assert sys.version_info >= (3, 5)\n",
    "\n",
    "# Scikit-Learn ≥0.20 is required\n",
    "import sklearn\n",
    "assert sklearn.__version__ >= \"0.20\"\n",
    "\n",
    "\n",
    "# TensorFlow ≥2.0-preview is required\n",
    "import tensorflow as tf\n",
    "from tensorflow import keras\n",
    "if tf.__version__ < \"2.0\":\n",
    "    if keras.__version__ < \"2.0\":\n",
    "        raise AssertionError(\"Keras version is too low\")\n",
    "    \n",
    "\n",
    "# Common imports\n",
    "import numpy as np\n",
    "import os\n",
    "\n",
    "# to make this notebook's output stable across runs\n",
    "np.random.seed(42)\n",
    "\n",
    "# To plot pretty figures\n",
    "%matplotlib inline\n",
    "import matplotlib as mpl\n",
    "import matplotlib.pyplot as plt\n",
    "mpl.rc('axes', labelsize=14)\n",
    "mpl.rc('xtick', labelsize=12)\n",
    "mpl.rc('ytick', labelsize=12)\n",
    "\n",
    "# Where to save the figures\n",
    "PROJECT_ROOT_DIR = \".\"\n",
    "CHAPTER_ID = \"ann\"\n",
    "IMAGES_PATH = os.path.join(PROJECT_ROOT_DIR, \"images\", CHAPTER_ID)\n",
    "os.makedirs(IMAGES_PATH, exist_ok=True)\n",
    "\n",
    "def save_fig(fig_id, tight_layout=True, fig_extension=\"png\", resolution=300):\n",
    "    path = os.path.join(IMAGES_PATH, fig_id + \".\" + fig_extension)\n",
    "    print(\"Saving figure\", fig_id)\n",
    "    if tight_layout:\n",
    "        plt.tight_layout()\n",
    "    plt.savefig(path, format=fig_extension, dpi=resolution)\n",
    "\n",
    "# Ignore useless warnings (see SciPy issue #5998)\n",
    "import warnings\n",
    "warnings.filterwarnings(action=\"ignore\", message=\"^internal gelsd\")"
   ]
  },
  {
   "cell_type": "code",
   "execution_count": 2,
   "metadata": {},
   "outputs": [
    {
     "name": "stdout",
     "output_type": "stream",
     "text": [
      "2.0.0-rc1\n",
      "2.2.4-tf\n"
     ]
    }
   ],
   "source": [
    "print(tf.__version__)\n",
    "print(keras.__version__)"
   ]
  },
  {
   "cell_type": "markdown",
   "metadata": {},
   "source": [
    "# Perceptrons"
   ]
  },
  {
   "cell_type": "markdown",
   "metadata": {},
   "source": [
    "**Note**: we set `max_iter` and `tol` explicitly to avoid warnings about the fact that their default value will change in future versions of Scikit-Learn."
   ]
  },
  {
   "cell_type": "code",
   "execution_count": 3,
   "metadata": {},
   "outputs": [],
   "source": [
    "import numpy as np\n",
    "from sklearn.datasets import load_iris\n",
    "from sklearn.linear_model import Perceptron\n",
    "\n",
    "iris = load_iris()\n",
    "X = iris.data[:, (2, 3)]  # petal length, petal width\n",
    "y = (iris.target == 0).astype(np.int) # Iris Setosa?\n",
    "\n",
    "per_clf = Perceptron(max_iter=1000, tol=1e-3, random_state=42)\n",
    "per_clf.fit(X, y)\n",
    "\n",
    "y_pred = per_clf.predict([[2, 0.5]])"
   ]
  },
  {
   "cell_type": "code",
   "execution_count": 4,
   "metadata": {},
   "outputs": [
    {
     "data": {
      "text/plain": [
       "array([1])"
      ]
     },
     "execution_count": 4,
     "metadata": {},
     "output_type": "execute_result"
    }
   ],
   "source": [
    "y_pred"
   ]
  },
  {
   "cell_type": "code",
   "execution_count": 5,
   "metadata": {},
   "outputs": [
    {
     "data": {
      "text/plain": [
       "array([[-1.4, -2.2]])"
      ]
     },
     "execution_count": 5,
     "metadata": {},
     "output_type": "execute_result"
    }
   ],
   "source": [
    "per_clf.coef_"
   ]
  },
  {
   "cell_type": "code",
   "execution_count": 6,
   "metadata": {},
   "outputs": [
    {
     "name": "stdout",
     "output_type": "stream",
     "text": [
      "Saving figure perceptron_iris_plot\n"
     ]
    },
    {
     "data": {
      "image/png": "[encoded data removed]",
      "text/plain": [
       "<Figure size 720x288 with 1 Axes>"
      ]
     },
     "metadata": {
      "needs_background": "light"
     },
     "output_type": "display_data"
    }
   ],
   "source": [
    "# y = alph0 + alph1*x1 + alph2*x2\n",
    "# 0 = alph0 +  alph1*x1 + alph2*x2\n",
    "# x2 = -(alph0/alph2)*x1 -(alpha1/alpha2)\n",
    "a = -per_clf.coef_[0][0] / per_clf.coef_[0][1]\n",
    "b = -per_clf.intercept_ / per_clf.coef_[0][1]\n",
    "\n",
    "axes = [0, 5, 0, 2]\n",
    "\n",
    "x0, x1 = np.meshgrid(\n",
    "        np.linspace(axes[0], axes[1], 500).reshape(-1, 1),\n",
    "        np.linspace(axes[2], axes[3], 200).reshape(-1, 1),\n",
    "    )\n",
    "X_new = np.c_[x0.ravel(), x1.ravel()]\n",
    "y_predict = per_clf.predict(X_new)\n",
    "zz = y_predict.reshape(x0.shape)\n",
    "\n",
    "plt.figure(figsize=(10, 4))\n",
    "plt.plot(X[y==0, 0], X[y==0, 1], \"bs\", label=\"Not Iris-Setosa\")\n",
    "plt.plot(X[y==1, 0], X[y==1, 1], \"yo\", label=\"Iris-Setosa\")\n",
    "\n",
    "plt.plot([axes[0], axes[1]], [a * axes[0] + b, a * axes[1] + b], \"k-\", linewidth=3)\n",
    "from matplotlib.colors import ListedColormap\n",
    "custom_cmap = ListedColormap(['#9898ff', '#fafab0'])\n",
    "\n",
    "plt.contourf(x0, x1, zz, cmap=custom_cmap)\n",
    "plt.xlabel(\"Petal length\", fontsize=14)\n",
    "plt.ylabel(\"Petal width\", fontsize=14)\n",
    "plt.legend(loc=\"lower right\", fontsize=14)\n",
    "plt.axis(axes)\n",
    "\n",
    "save_fig(\"perceptron_iris_plot\")\n",
    "plt.show()"
   ]
  },
  {
   "cell_type": "markdown",
   "metadata": {},
   "source": [
    "# Activation functions"
   ]
  },
  {
   "cell_type": "code",
   "execution_count": 7,
   "metadata": {},
   "outputs": [],
   "source": [
    "def sigmoid(z):\n",
    "    return 1 / (1 + np.exp(-z))\n",
    "\n",
    "def relu(z):\n",
    "    return np.maximum(0, z)\n",
    "\n",
    "def derivative(f, z, eps=0.000001):\n",
    "    return (f(z + eps) - f(z - eps))/(2 * eps)"
   ]
  },
  {
   "cell_type": "code",
   "execution_count": 8,
   "metadata": {},
   "outputs": [
    {
     "name": "stdout",
     "output_type": "stream",
     "text": [
      "Saving figure activation_functions_plot\n"
     ]
    },
    {
     "data": {
      "image/png": "[encoded data removed]",
      "text/plain": [
       "<Figure size 792x288 with 2 Axes>"
      ]
     },
     "metadata": {
      "needs_background": "light"
     },
     "output_type": "display_data"
    }
   ],
   "source": [
    "z = np.linspace(-5, 5, 200)\n",
    "\n",
    "plt.figure(figsize=(11,4))\n",
    "\n",
    "plt.subplot(121)\n",
    "plt.plot(z, np.sign(z), \"r-\", linewidth=1, label=\"Step\")\n",
    "plt.plot(z, sigmoid(z), \"g--\", linewidth=2, label=\"Sigmoid\")\n",
    "plt.plot(z, np.tanh(z), \"b-\", linewidth=2, label=\"Tanh\")\n",
    "plt.plot(z, relu(z), \"m-.\", linewidth=2, label=\"ReLU\")\n",
    "plt.grid(True)\n",
    "plt.legend(loc=\"center right\", fontsize=14)\n",
    "plt.title(\"Activation functions\", fontsize=14)\n",
    "plt.axis([-5, 5, -1.2, 1.2])\n",
    "\n",
    "plt.subplot(122)\n",
    "plt.plot(z, derivative(np.sign, z), \"r-\", linewidth=1, label=\"Step\")\n",
    "plt.plot(0, 0, \"ro\", markersize=5)\n",
    "plt.plot(0, 0, \"rx\", markersize=10)\n",
    "plt.plot(z, derivative(sigmoid, z), \"g--\", linewidth=2, label=\"Sigmoid\")\n",
    "plt.plot(z, derivative(np.tanh, z), \"b-\", linewidth=2, label=\"Tanh\")\n",
    "plt.plot(z, derivative(relu, z), \"m-.\", linewidth=2, label=\"ReLU\")\n",
    "plt.grid(True)\n",
    "#plt.legend(loc=\"center right\", fontsize=14)\n",
    "plt.title(\"Derivatives\", fontsize=14)\n",
    "plt.axis([-5, 5, -0.2, 1.2])\n",
    "\n",
    "save_fig(\"activation_functions_plot\")\n",
    "plt.show()"
   ]
  },
  {
   "cell_type": "markdown",
   "metadata": {},
   "source": [
    "![Figure 10-6](https://github.com/soo-pecialist/Hands_on_ML_w_Scikit_Karas_and_TensorFlow/blob/master/images_used/figure10_6.png?raw=true)"
   ]
  },
  {
   "cell_type": "markdown",
   "metadata": {},
   "source": [
    "Above is XOR classification problem and an MLP that solves it in the book and let us implement it."
   ]
  },
  {
   "cell_type": "code",
   "execution_count": 9,
   "metadata": {},
   "outputs": [],
   "source": [
    "def heaviside(z):  # same as np.sign(), i.e., step function\n",
    "    return (z >= 0).astype(z.dtype)\n",
    "\n",
    "def mlp_xor(x1, x2, activation=heaviside):\n",
    "    return activation(-activation(x1 + x2 - 1.5) + activation(x1 + x2 - 0.5) - 0.5)"
   ]
  },
  {
   "cell_type": "code",
   "execution_count": 10,
   "metadata": {},
   "outputs": [
    {
     "data": {
      "image/png": "[encoded data removed]",
      "text/plain": [
       "<Figure size 720x288 with 2 Axes>"
      ]
     },
     "metadata": {
      "needs_background": "light"
     },
     "output_type": "display_data"
    }
   ],
   "source": [
    "x1s = np.linspace(-0.2, 1.2, 100)\n",
    "x2s = np.linspace(-0.2, 1.2, 100)\n",
    "x1, x2 = np.meshgrid(x1s, x2s)\n",
    "\n",
    "z1 = mlp_xor(x1, x2, activation=heaviside)\n",
    "z2 = mlp_xor(x1, x2, activation=sigmoid)\n",
    "\n",
    "plt.figure(figsize=(10,4))\n",
    "\n",
    "plt.subplot(121)\n",
    "plt.contourf(x1, x2, z1)\n",
    "plt.plot([0, 1], [0, 1], \"gs\", markersize=20)\n",
    "plt.plot([0, 1], [1, 0], \"y^\", markersize=20)\n",
    "plt.title(\"Activation function: heaviside\", fontsize=14)\n",
    "plt.grid(True)\n",
    "\n",
    "plt.subplot(122)\n",
    "plt.contourf(x1, x2, z2)\n",
    "plt.plot([0, 1], [0, 1], \"gs\", markersize=20)\n",
    "plt.plot([0, 1], [1, 0], \"y^\", markersize=20)\n",
    "plt.title(\"Activation function: sigmoid\", fontsize=14)\n",
    "plt.grid(True)"
   ]
  },
  {
   "cell_type": "markdown",
   "metadata": {},
   "source": [
    "# Building an Image Classifier"
   ]
  },
  {
   "cell_type": "markdown",
   "metadata": {},
   "source": [
    "First let's import `TensorFlow` and `Keras`"
   ]
  },
  {
   "cell_type": "code",
   "execution_count": 11,
   "metadata": {},
   "outputs": [],
   "source": [
    "import tensorflow as tf\n",
    "from tensorflow import keras"
   ]
  },
  {
   "cell_type": "code",
   "execution_count": 12,
   "metadata": {},
   "outputs": [
    {
     "data": {
      "text/plain": [
       "('2.0.0-rc1', '2.2.4-tf')"
      ]
     },
     "execution_count": 12,
     "metadata": {},
     "output_type": "execute_result"
    }
   ],
   "source": [
    "tf.__version__, keras.__version__"
   ]
  },
  {
   "cell_type": "markdown",
   "metadata": {},
   "source": [
    "Let's start by loading the fashion MNIST dataset. Keras has a number of functions to load popular datasets in `keras.datasets`. The dataset is already split for you between a training set and a test set, but it can be useful to split the training set further to have a validation set:"
   ]
  },
  {
   "cell_type": "code",
   "execution_count": 13,
   "metadata": {},
   "outputs": [],
   "source": [
    "fashion_mnist = keras.datasets.fashion_mnist\n",
    "(X_train_full, y_train_full), (X_test, y_test) = fashion_mnist.load_data()"
   ]
  },
  {
   "cell_type": "markdown",
   "metadata": {},
   "source": [
    "The training set contains 60,000 grayscale images, each 28x28 pixels:"
   ]
  },
  {
   "cell_type": "code",
   "execution_count": 14,
   "metadata": {},
   "outputs": [
    {
     "data": {
      "text/plain": [
       "(60000, 28, 28)"
      ]
     },
     "execution_count": 14,
     "metadata": {},
     "output_type": "execute_result"
    }
   ],
   "source": [
    "X_train_full.shape"
   ]
  },
  {
   "cell_type": "markdown",
   "metadata": {},
   "source": [
    "Each pixel intensity is represented as a byte (0 to 255):"
   ]
  },
  {
   "cell_type": "code",
   "execution_count": 15,
   "metadata": {},
   "outputs": [
    {
     "data": {
      "text/plain": [
       "dtype('uint8')"
      ]
     },
     "execution_count": 15,
     "metadata": {},
     "output_type": "execute_result"
    }
   ],
   "source": [
    "X_train_full.dtype"
   ]
  },
  {
   "cell_type": "markdown",
   "metadata": {},
   "source": [
    "Let's split the full training set into a validation set and a (smaller) training set. We also scale the pixel intensities down to the 0-1 range and convert them to floats, by dividing by 255."
   ]
  },
  {
   "cell_type": "code",
   "execution_count": 16,
   "metadata": {},
   "outputs": [],
   "source": [
    "X_valid, X_train = X_train_full[:5000] / 255., X_train_full[5000:] / 255.\n",
    "y_valid, y_train = y_train_full[:5000], y_train_full[5000:]\n",
    "X_test = X_test / 255."
   ]
  },
  {
   "cell_type": "markdown",
   "metadata": {},
   "source": [
    "You can plot an image using Matplotlib's `imshow()` function, with a `'binary'`\n",
    " color map:"
   ]
  },
  {
   "cell_type": "code",
   "execution_count": 17,
   "metadata": {},
   "outputs": [
    {
     "data": {
      "image/png": "[encoded data removed]",
      "text/plain": [
       "<Figure size 432x288 with 1 Axes>"
      ]
     },
     "metadata": {
      "needs_background": "light"
     },
     "output_type": "display_data"
    }
   ],
   "source": [
    "plt.imshow(X_train[0], cmap=\"binary\")\n",
    "plt.axis('off')\n",
    "plt.show()"
   ]
  },
  {
   "cell_type": "markdown",
   "metadata": {},
   "source": [
    "The labels are the class IDs (represented as uint8), from 0 to 9:"
   ]
  },
  {
   "cell_type": "code",
   "execution_count": 18,
   "metadata": {},
   "outputs": [
    {
     "data": {
      "text/plain": [
       "array([4, 0, 7, ..., 3, 0, 5], dtype=uint8)"
      ]
     },
     "execution_count": 18,
     "metadata": {},
     "output_type": "execute_result"
    }
   ],
   "source": [
    "y_train"
   ]
  },
  {
   "cell_type": "code",
   "execution_count": 19,
   "metadata": {},
   "outputs": [
    {
     "data": {
      "text/plain": [
       "(55000,)"
      ]
     },
     "execution_count": 19,
     "metadata": {},
     "output_type": "execute_result"
    }
   ],
   "source": [
    "y_train.shape"
   ]
  },
  {
   "cell_type": "code",
   "execution_count": 20,
   "metadata": {},
   "outputs": [],
   "source": [
    "classes, counts = np.unique(y_train, return_counts=True)"
   ]
  },
  {
   "cell_type": "code",
   "execution_count": 21,
   "metadata": {},
   "outputs": [
    {
     "name": "stdout",
     "output_type": "stream",
     "text": [
      "class counts\n",
      "  0    5543\n",
      "  1    5444\n",
      "  2    5496\n",
      "  3    5499\n",
      "  4    5512\n",
      "  5    5507\n",
      "  6    5507\n",
      "  7    5488\n",
      "  8    5510\n",
      "  9    5494\n"
     ]
    }
   ],
   "source": [
    "print(\"class counts\")\n",
    "for class_, count in zip(classes, counts):\n",
    "    print(f'{class_:>3}{count:>8}')"
   ]
  },
  {
   "cell_type": "markdown",
   "metadata": {},
   "source": [
    "Here are the corresponding class names:"
   ]
  },
  {
   "cell_type": "code",
   "execution_count": 22,
   "metadata": {},
   "outputs": [],
   "source": [
    "class_names = [\"T-shirt/top\", \"Trouser\", \"Pullover\", \"Dress\", \"Coat\",\n",
    "               \"Sandal\", \"Shirt\", \"Sneaker\", \"Bag\", \"Ankle boot\"]"
   ]
  },
  {
   "cell_type": "markdown",
   "metadata": {},
   "source": [
    "So the first image in the training set is a coat:"
   ]
  },
  {
   "cell_type": "code",
   "execution_count": 23,
   "metadata": {
    "scrolled": true
   },
   "outputs": [
    {
     "data": {
      "text/plain": [
       "'Coat'"
      ]
     },
     "execution_count": 23,
     "metadata": {},
     "output_type": "execute_result"
    }
   ],
   "source": [
    "class_names[y_train[0]]"
   ]
  },
  {
   "cell_type": "markdown",
   "metadata": {},
   "source": [
    "The validation set contains 5,000 images, and the test set contains 10,000 images:"
   ]
  },
  {
   "cell_type": "code",
   "execution_count": 24,
   "metadata": {},
   "outputs": [
    {
     "data": {
      "text/plain": [
       "(5000, 28, 28)"
      ]
     },
     "execution_count": 24,
     "metadata": {},
     "output_type": "execute_result"
    }
   ],
   "source": [
    "X_valid.shape"
   ]
  },
  {
   "cell_type": "code",
   "execution_count": 25,
   "metadata": {},
   "outputs": [
    {
     "data": {
      "text/plain": [
       "(10000, 28, 28)"
      ]
     },
     "execution_count": 25,
     "metadata": {},
     "output_type": "execute_result"
    }
   ],
   "source": [
    "X_test.shape"
   ]
  },
  {
   "cell_type": "markdown",
   "metadata": {},
   "source": [
    "Let's take a look at a sample of the images in the dataset:"
   ]
  },
  {
   "cell_type": "code",
   "execution_count": 26,
   "metadata": {},
   "outputs": [
    {
     "name": "stdout",
     "output_type": "stream",
     "text": [
      "Saving figure fashion_mnist_plot\n"
     ]
    },
    {
     "data": {
      "image/png": "[encoded data removed]",
      "text/plain": [
       "<Figure size 864x345.6 with 40 Axes>"
      ]
     },
     "metadata": {
      "needs_background": "light"
     },
     "output_type": "display_data"
    }
   ],
   "source": [
    "n_rows = 4\n",
    "n_cols = 10\n",
    "plt.figure(figsize=(n_cols * 1.2, n_rows * 1.2))\n",
    "for row in range(n_rows):\n",
    "    for col in range(n_cols):\n",
    "        index = n_cols * row + col\n",
    "        plt.subplot(n_rows, n_cols, index + 1)\n",
    "        plt.imshow(X_train[index], cmap=\"binary\", interpolation=\"nearest\")\n",
    "        plt.axis('off')\n",
    "        plt.title(class_names[y_train[index]], fontsize=12)\n",
    "plt.subplots_adjust(wspace=0.2, hspace=0.5)\n",
    "save_fig('fashion_mnist_plot', tight_layout=False)\n",
    "plt.show()"
   ]
  },
  {
   "cell_type": "code",
   "execution_count": 27,
   "metadata": {},
   "outputs": [],
   "source": [
    "model = keras.models.Sequential()\n",
    "model.add(keras.layers.Flatten(input_shape=[28, 28]))\n",
    "model.add(keras.layers.Dense(300, activation=\"relu\"))\n",
    "model.add(keras.layers.Dense(100, activation=\"relu\"))\n",
    "model.add(keras.layers.Dense(10, activation=\"softmax\"))"
   ]
  },
  {
   "cell_type": "code",
   "execution_count": 28,
   "metadata": {},
   "outputs": [],
   "source": [
    "keras.backend.clear_session()\n",
    "np.random.seed(42)\n",
    "tf.random.set_seed(42)"
   ]
  },
  {
   "cell_type": "code",
   "execution_count": 29,
   "metadata": {},
   "outputs": [],
   "source": [
    "model = keras.models.Sequential([\n",
    "    keras.layers.Flatten(input_shape=[28, 28]),\n",
    "    keras.layers.Dense(300, activation=\"relu\"),\n",
    "    keras.layers.Dense(100, activation=\"relu\"),\n",
    "    keras.layers.Dense(10, activation=\"softmax\")\n",
    "])"
   ]
  },
  {
   "cell_type": "code",
   "execution_count": 30,
   "metadata": {},
   "outputs": [
    {
     "data": {
      "text/plain": [
       "[<tensorflow.python.keras.layers.core.Flatten at 0x7fbd0c648518>,\n",
       " <tensorflow.python.keras.layers.core.Dense at 0x7fbd0c6486d8>,\n",
       " <tensorflow.python.keras.layers.core.Dense at 0x7fbd0c648a20>,\n",
       " <tensorflow.python.keras.layers.core.Dense at 0x7fbd0c648d30>]"
      ]
     },
     "execution_count": 30,
     "metadata": {},
     "output_type": "execute_result"
    }
   ],
   "source": [
    "model.layers"
   ]
  },
  {
   "cell_type": "code",
   "execution_count": 31,
   "metadata": {},
   "outputs": [
    {
     "name": "stdout",
     "output_type": "stream",
     "text": [
      "Model: \"sequential\"\n",
      "_________________________________________________________________\n",
      "Layer (type)                 Output Shape              Param #   \n",
      "=================================================================\n",
      "flatten (Flatten)            (None, 784)               0         \n",
      "_________________________________________________________________\n",
      "dense (Dense)                (None, 300)               235500    \n",
      "_________________________________________________________________\n",
      "dense_1 (Dense)              (None, 100)               30100     \n",
      "_________________________________________________________________\n",
      "dense_2 (Dense)              (None, 10)                1010      \n",
      "=================================================================\n",
      "Total params: 266,610\n",
      "Trainable params: 266,610\n",
      "Non-trainable params: 0\n",
      "_________________________________________________________________\n"
     ]
    }
   ],
   "source": [
    "model.summary()"
   ]
  },
  {
   "cell_type": "code",
   "execution_count": 32,
   "metadata": {},
   "outputs": [
    {
     "data": {
      "text/plain": [
       "235700"
      ]
     },
     "execution_count": 32,
     "metadata": {},
     "output_type": "execute_result"
    }
   ],
   "source": [
    "#  W = (784 x 300), b = (300,)\n",
    "300*784 + 500"
   ]
  },
  {
   "cell_type": "code",
   "execution_count": 33,
   "metadata": {},
   "outputs": [
    {
     "data": {
      "image/png": "[encoded data removed]",
      "text/plain": [
       "<IPython.core.display.Image object>"
      ]
     },
     "execution_count": 33,
     "metadata": {},
     "output_type": "execute_result"
    }
   ],
   "source": [
    "keras.utils.plot_model(model, \"my_mnist_model.png\", show_shapes=True)"
   ]
  },
  {
   "cell_type": "code",
   "execution_count": 34,
   "metadata": {},
   "outputs": [
    {
     "data": {
      "text/plain": [
       "'dense'"
      ]
     },
     "execution_count": 34,
     "metadata": {},
     "output_type": "execute_result"
    }
   ],
   "source": [
    "hidden1 = model.layers[1]\n",
    "hidden1.name"
   ]
  },
  {
   "cell_type": "code",
   "execution_count": 35,
   "metadata": {},
   "outputs": [
    {
     "data": {
      "text/plain": [
       "True"
      ]
     },
     "execution_count": 35,
     "metadata": {},
     "output_type": "execute_result"
    }
   ],
   "source": [
    "model.get_layer(hidden1.name) is hidden1"
   ]
  },
  {
   "cell_type": "code",
   "execution_count": 36,
   "metadata": {},
   "outputs": [],
   "source": [
    "weights, biases = hidden1.get_weights()"
   ]
  },
  {
   "cell_type": "code",
   "execution_count": 37,
   "metadata": {},
   "outputs": [
    {
     "data": {
      "text/plain": [
       "array([[ 0.02448617, -0.00877795, -0.02189048, ..., -0.02766046,\n",
       "         0.03859074, -0.06889391],\n",
       "       [ 0.00476504, -0.03105379, -0.0586676 , ...,  0.00602964,\n",
       "        -0.02763776, -0.04165364],\n",
       "       [-0.06189284, -0.06901957,  0.07102345, ..., -0.04238207,\n",
       "         0.07121518, -0.07331658],\n",
       "       ...,\n",
       "       [-0.03048757,  0.02155137, -0.05400612, ..., -0.00113463,\n",
       "         0.00228987,  0.05581069],\n",
       "       [ 0.07061854, -0.06960931,  0.07038955, ..., -0.00384101,\n",
       "         0.00034875,  0.02878492],\n",
       "       [-0.06022581,  0.01577859, -0.02585464, ..., -0.00527829,\n",
       "         0.00272203, -0.06793761]], dtype=float32)"
      ]
     },
     "execution_count": 37,
     "metadata": {},
     "output_type": "execute_result"
    }
   ],
   "source": [
    "weights"
   ]
  },
  {
   "cell_type": "code",
   "execution_count": 38,
   "metadata": {},
   "outputs": [
    {
     "data": {
      "text/plain": [
       "(784, 300)"
      ]
     },
     "execution_count": 38,
     "metadata": {},
     "output_type": "execute_result"
    }
   ],
   "source": [
    "weights.shape"
   ]
  },
  {
   "cell_type": "code",
   "execution_count": 39,
   "metadata": {},
   "outputs": [
    {
     "data": {
      "text/plain": [
       "array([0., 0., 0., 0., 0., 0., 0., 0., 0., 0., 0., 0., 0., 0., 0., 0., 0.,\n",
       "       0., 0., 0., 0., 0., 0., 0., 0., 0., 0., 0., 0., 0., 0., 0., 0., 0.,\n",
       "       0., 0., 0., 0., 0., 0., 0., 0., 0., 0., 0., 0., 0., 0., 0., 0., 0.,\n",
       "       0., 0., 0., 0., 0., 0., 0., 0., 0., 0., 0., 0., 0., 0., 0., 0., 0.,\n",
       "       0., 0., 0., 0., 0., 0., 0., 0., 0., 0., 0., 0., 0., 0., 0., 0., 0.,\n",
       "       0., 0., 0., 0., 0., 0., 0., 0., 0., 0., 0., 0., 0., 0., 0., 0., 0.,\n",
       "       0., 0., 0., 0., 0., 0., 0., 0., 0., 0., 0., 0., 0., 0., 0., 0., 0.,\n",
       "       0., 0., 0., 0., 0., 0., 0., 0., 0., 0., 0., 0., 0., 0., 0., 0., 0.,\n",
       "       0., 0., 0., 0., 0., 0., 0., 0., 0., 0., 0., 0., 0., 0., 0., 0., 0.,\n",
       "       0., 0., 0., 0., 0., 0., 0., 0., 0., 0., 0., 0., 0., 0., 0., 0., 0.,\n",
       "       0., 0., 0., 0., 0., 0., 0., 0., 0., 0., 0., 0., 0., 0., 0., 0., 0.,\n",
       "       0., 0., 0., 0., 0., 0., 0., 0., 0., 0., 0., 0., 0., 0., 0., 0., 0.,\n",
       "       0., 0., 0., 0., 0., 0., 0., 0., 0., 0., 0., 0., 0., 0., 0., 0., 0.,\n",
       "       0., 0., 0., 0., 0., 0., 0., 0., 0., 0., 0., 0., 0., 0., 0., 0., 0.,\n",
       "       0., 0., 0., 0., 0., 0., 0., 0., 0., 0., 0., 0., 0., 0., 0., 0., 0.,\n",
       "       0., 0., 0., 0., 0., 0., 0., 0., 0., 0., 0., 0., 0., 0., 0., 0., 0.,\n",
       "       0., 0., 0., 0., 0., 0., 0., 0., 0., 0., 0., 0., 0., 0., 0., 0., 0.,\n",
       "       0., 0., 0., 0., 0., 0., 0., 0., 0., 0., 0.], dtype=float32)"
      ]
     },
     "execution_count": 39,
     "metadata": {},
     "output_type": "execute_result"
    }
   ],
   "source": [
    "biases"
   ]
  },
  {
   "cell_type": "code",
   "execution_count": 40,
   "metadata": {},
   "outputs": [
    {
     "data": {
      "text/plain": [
       "(300,)"
      ]
     },
     "execution_count": 40,
     "metadata": {},
     "output_type": "execute_result"
    }
   ],
   "source": [
    "biases.shape"
   ]
  },
  {
   "cell_type": "code",
   "execution_count": 41,
   "metadata": {},
   "outputs": [
    {
     "data": {
      "text/plain": [
       "{'name': 'dense',\n",
       " 'trainable': True,\n",
       " 'dtype': 'float32',\n",
       " 'units': 300,\n",
       " 'activation': 'relu',\n",
       " 'use_bias': True,\n",
       " 'kernel_initializer': {'class_name': 'GlorotUniform',\n",
       "  'config': {'seed': None}},\n",
       " 'bias_initializer': {'class_name': 'Zeros', 'config': {}},\n",
       " 'kernel_regularizer': None,\n",
       " 'bias_regularizer': None,\n",
       " 'activity_regularizer': None,\n",
       " 'kernel_constraint': None,\n",
       " 'bias_constraint': None}"
      ]
     },
     "execution_count": 41,
     "metadata": {},
     "output_type": "execute_result"
    }
   ],
   "source": [
    "hidden1.get_config()"
   ]
  },
  {
   "cell_type": "code",
   "execution_count": 42,
   "metadata": {},
   "outputs": [],
   "source": [
    "model.compile(loss=\"sparse_categorical_crossentropy\",\n",
    "              optimizer=\"sgd\",\n",
    "              metrics=[\"accuracy\"])"
   ]
  },
  {
   "cell_type": "markdown",
   "metadata": {},
   "source": [
    "This is equivalent to:"
   ]
  },
  {
   "cell_type": "markdown",
   "metadata": {},
   "source": [
    "```python\n",
    "model.compile(loss=keras.losses.sparse_categorical_crossentropy,\n",
    "              optimizer=keras.optimizers.SGD(),\n",
    "              metrics=[keras.metrics.sparse_categorical_accuracy])\n",
    "```"
   ]
  },
  {
   "cell_type": "code",
   "execution_count": 43,
   "metadata": {},
   "outputs": [
    {
     "name": "stdout",
     "output_type": "stream",
     "text": [
      "Train on 55000 samples, validate on 5000 samples\n",
      "Epoch 1/30\n",
      "55000/55000 [==============================] - 3s 54us/sample - loss: 0.7228 - accuracy: 0.7623 - val_loss: 0.5304 - val_accuracy: 0.8160\n",
      "Epoch 2/30\n",
      "55000/55000 [==============================] - 2s 44us/sample - loss: 0.4838 - accuracy: 0.8323 - val_loss: 0.4494 - val_accuracy: 0.8454\n",
      "Epoch 3/30\n",
      "55000/55000 [==============================] - 2s 45us/sample - loss: 0.4379 - accuracy: 0.8475 - val_loss: 0.4173 - val_accuracy: 0.8548\n",
      "Epoch 4/30\n",
      "55000/55000 [==============================] - 2s 43us/sample - loss: 0.4126 - accuracy: 0.8555 - val_loss: 0.3898 - val_accuracy: 0.8660\n",
      "Epoch 5/30\n",
      "55000/55000 [==============================] - 2s 45us/sample - loss: 0.3930 - accuracy: 0.8626 - val_loss: 0.3987 - val_accuracy: 0.8610\n",
      "Epoch 6/30\n",
      "55000/55000 [==============================] - 3s 52us/sample - loss: 0.3776 - accuracy: 0.8672 - val_loss: 0.3730 - val_accuracy: 0.8732\n",
      "Epoch 7/30\n",
      "55000/55000 [==============================] - 3s 50us/sample - loss: 0.3645 - accuracy: 0.8709 - val_loss: 0.3663 - val_accuracy: 0.8692\n",
      "Epoch 8/30\n",
      "55000/55000 [==============================] - 3s 52us/sample - loss: 0.3526 - accuracy: 0.8743 - val_loss: 0.3614 - val_accuracy: 0.8736\n",
      "Epoch 9/30\n",
      "55000/55000 [==============================] - 4s 68us/sample - loss: 0.3414 - accuracy: 0.8787 - val_loss: 0.3648 - val_accuracy: 0.8746\n",
      "Epoch 10/30\n",
      "55000/55000 [==============================] - 3s 63us/sample - loss: 0.3323 - accuracy: 0.8814 - val_loss: 0.3480 - val_accuracy: 0.8790\n",
      "Epoch 11/30\n",
      "55000/55000 [==============================] - 3s 59us/sample - loss: 0.3247 - accuracy: 0.8839 - val_loss: 0.3387 - val_accuracy: 0.8798\n",
      "Epoch 12/30\n",
      "55000/55000 [==============================] - 3s 54us/sample - loss: 0.3171 - accuracy: 0.8862 - val_loss: 0.3406 - val_accuracy: 0.8800\n",
      "Epoch 13/30\n",
      "55000/55000 [==============================] - 3s 49us/sample - loss: 0.3093 - accuracy: 0.8887 - val_loss: 0.3294 - val_accuracy: 0.8834\n",
      "Epoch 14/30\n",
      "55000/55000 [==============================] - 3s 48us/sample - loss: 0.3029 - accuracy: 0.8915 - val_loss: 0.3228 - val_accuracy: 0.8848\n",
      "Epoch 15/30\n",
      "55000/55000 [==============================] - 4s 64us/sample - loss: 0.2960 - accuracy: 0.8944 - val_loss: 0.3247 - val_accuracy: 0.8838\n",
      "Epoch 16/30\n",
      "55000/55000 [==============================] - 4s 68us/sample - loss: 0.2896 - accuracy: 0.8952 - val_loss: 0.3293 - val_accuracy: 0.8788\n",
      "Epoch 17/30\n",
      "55000/55000 [==============================] - 4s 66us/sample - loss: 0.2833 - accuracy: 0.8979 - val_loss: 0.3109 - val_accuracy: 0.8896\n",
      "Epoch 18/30\n",
      "55000/55000 [==============================] - 4s 66us/sample - loss: 0.2773 - accuracy: 0.9001 - val_loss: 0.3264 - val_accuracy: 0.8848\n",
      "Epoch 19/30\n",
      "55000/55000 [==============================] - 3s 63us/sample - loss: 0.2730 - accuracy: 0.9021 - val_loss: 0.3572 - val_accuracy: 0.8660\n",
      "Epoch 20/30\n",
      "55000/55000 [==============================] - 4s 65us/sample - loss: 0.2683 - accuracy: 0.9034 - val_loss: 0.3015 - val_accuracy: 0.8926\n",
      "Epoch 21/30\n",
      "55000/55000 [==============================] - 4s 66us/sample - loss: 0.2628 - accuracy: 0.9059 - val_loss: 0.3175 - val_accuracy: 0.8846\n",
      "Epoch 22/30\n",
      "55000/55000 [==============================] - 4s 65us/sample - loss: 0.2585 - accuracy: 0.9063 - val_loss: 0.3164 - val_accuracy: 0.8878\n",
      "Epoch 23/30\n",
      "55000/55000 [==============================] - 4s 65us/sample - loss: 0.2549 - accuracy: 0.9083 - val_loss: 0.3035 - val_accuracy: 0.8924\n",
      "Epoch 24/30\n",
      "55000/55000 [==============================] - 4s 72us/sample - loss: 0.2483 - accuracy: 0.9101 - val_loss: 0.3013 - val_accuracy: 0.8930\n",
      "Epoch 25/30\n",
      "55000/55000 [==============================] - 4s 71us/sample - loss: 0.2451 - accuracy: 0.9123 - val_loss: 0.3071 - val_accuracy: 0.8890\n",
      "Epoch 26/30\n",
      "55000/55000 [==============================] - 4s 71us/sample - loss: 0.2409 - accuracy: 0.9144 - val_loss: 0.3194 - val_accuracy: 0.8828\n",
      "Epoch 27/30\n",
      "55000/55000 [==============================] - 4s 74us/sample - loss: 0.2362 - accuracy: 0.9146 - val_loss: 0.2990 - val_accuracy: 0.8896\n",
      "Epoch 28/30\n",
      "55000/55000 [==============================] - 4s 76us/sample - loss: 0.2333 - accuracy: 0.9157 - val_loss: 0.2989 - val_accuracy: 0.8946\n",
      "Epoch 29/30\n",
      "55000/55000 [==============================] - 5s 88us/sample - loss: 0.2290 - accuracy: 0.9178 - val_loss: 0.2978 - val_accuracy: 0.8946\n",
      "Epoch 30/30\n",
      "55000/55000 [==============================] - 7s 120us/sample - loss: 0.2251 - accuracy: 0.9181 - val_loss: 0.3308 - val_accuracy: 0.8816\n"
     ]
    }
   ],
   "source": [
    "history = model.fit(X_train, y_train, epochs=30,\n",
    "                    validation_data=(X_valid, y_valid))"
   ]
  },
  {
   "cell_type": "code",
   "execution_count": 44,
   "metadata": {},
   "outputs": [
    {
     "data": {
      "text/plain": [
       "{'batch_size': 32,\n",
       " 'epochs': 30,\n",
       " 'steps': 1719,\n",
       " 'samples': 55000,\n",
       " 'verbose': 0,\n",
       " 'do_validation': True,\n",
       " 'metrics': ['loss', 'accuracy', 'val_loss', 'val_accuracy']}"
      ]
     },
     "execution_count": 44,
     "metadata": {},
     "output_type": "execute_result"
    }
   ],
   "source": [
    "history.params"
   ]
  },
  {
   "cell_type": "code",
   "execution_count": 45,
   "metadata": {},
   "outputs": [
    {
     "name": "stdout",
     "output_type": "stream",
     "text": [
      "[0, 1, 2, 3, 4, 5, 6, 7, 8, 9, 10, 11, 12, 13, 14, 15, 16, 17, 18, 19, 20, 21, 22, 23, 24, 25, 26, 27, 28, 29]\n"
     ]
    }
   ],
   "source": [
    "print(history.epoch)"
   ]
  },
  {
   "cell_type": "code",
   "execution_count": 46,
   "metadata": {},
   "outputs": [
    {
     "data": {
      "text/plain": [
       "dict_keys(['loss', 'accuracy', 'val_loss', 'val_accuracy'])"
      ]
     },
     "execution_count": 46,
     "metadata": {},
     "output_type": "execute_result"
    }
   ],
   "source": [
    "history.history.keys()"
   ]
  },
  {
   "cell_type": "code",
   "execution_count": 47,
   "metadata": {},
   "outputs": [
    {
     "name": "stdout",
     "output_type": "stream",
     "text": [
      "Saving figure keras_learning_curves_plot\n"
     ]
    },
    {
     "data": {
      "image/png": "[encoded data removed]",
      "text/plain": [
       "<Figure size 576x360 with 1 Axes>"
      ]
     },
     "metadata": {
      "needs_background": "light"
     },
     "output_type": "display_data"
    }
   ],
   "source": [
    "import pandas as pd\n",
    "\n",
    "pd.DataFrame(history.history).plot(figsize=(8, 5))\n",
    "plt.grid(True)\n",
    "plt.gca().set_ylim(0, 1)\n",
    "plt.grid(linestyle=':')\n",
    "save_fig(\"keras_learning_curves_plot\")\n",
    "plt.show()"
   ]
  },
  {
   "cell_type": "code",
   "execution_count": 48,
   "metadata": {
    "scrolled": false
   },
   "outputs": [
    {
     "data": {
      "text/plain": [
       "[0.36434496695995333, 0.8681]"
      ]
     },
     "execution_count": 48,
     "metadata": {},
     "output_type": "execute_result"
    }
   ],
   "source": [
    "model.evaluate(X_test, y_test, verbose=0)"
   ]
  },
  {
   "cell_type": "code",
   "execution_count": 49,
   "metadata": {},
   "outputs": [
    {
     "data": {
      "text/plain": [
       "array([[0.  , 0.  , 0.  , 0.  , 0.  , 0.01, 0.  , 0.01, 0.  , 0.98],\n",
       "       [0.  , 0.  , 1.  , 0.  , 0.  , 0.  , 0.  , 0.  , 0.  , 0.  ],\n",
       "       [0.  , 1.  , 0.  , 0.  , 0.  , 0.  , 0.  , 0.  , 0.  , 0.  ]],\n",
       "      dtype=float32)"
      ]
     },
     "execution_count": 49,
     "metadata": {},
     "output_type": "execute_result"
    }
   ],
   "source": [
    "X_new = X_test[:3]\n",
    "y_proba = model.predict(X_new)\n",
    "y_proba.round(2)"
   ]
  },
  {
   "cell_type": "code",
   "execution_count": 50,
   "metadata": {},
   "outputs": [
    {
     "data": {
      "text/plain": [
       "array([9, 2, 1])"
      ]
     },
     "execution_count": 50,
     "metadata": {},
     "output_type": "execute_result"
    }
   ],
   "source": [
    "y_pred = model.predict_classes(X_new)\n",
    "y_pred"
   ]
  },
  {
   "cell_type": "code",
   "execution_count": 51,
   "metadata": {},
   "outputs": [
    {
     "data": {
      "text/plain": [
       "array(['Ankle boot', 'Pullover', 'Trouser'], dtype='<U11')"
      ]
     },
     "execution_count": 51,
     "metadata": {},
     "output_type": "execute_result"
    }
   ],
   "source": [
    "np.array(class_names)[y_pred]"
   ]
  },
  {
   "cell_type": "code",
   "execution_count": 52,
   "metadata": {},
   "outputs": [
    {
     "data": {
      "text/plain": [
       "array([9, 2, 1], dtype=uint8)"
      ]
     },
     "execution_count": 52,
     "metadata": {},
     "output_type": "execute_result"
    }
   ],
   "source": [
    "y_new = y_test[:3]\n",
    "y_new"
   ]
  },
  {
   "cell_type": "code",
   "execution_count": 53,
   "metadata": {},
   "outputs": [
    {
     "name": "stdout",
     "output_type": "stream",
     "text": [
      "Saving figure fashion_mnist_images_plot\n"
     ]
    },
    {
     "data": {
      "image/png": "[encoded data removed]",
      "text/plain": [
       "<Figure size 518.4x172.8 with 3 Axes>"
      ]
     },
     "metadata": {
      "needs_background": "light"
     },
     "output_type": "display_data"
    }
   ],
   "source": [
    "plt.figure(figsize=(7.2, 2.4))\n",
    "for index, image in enumerate(X_new):\n",
    "    plt.subplot(1, 3, index + 1)\n",
    "    plt.imshow(image, cmap=\"binary\", interpolation=\"nearest\")\n",
    "    plt.axis('off')\n",
    "    plt.title(class_names[y_test[index]], fontsize=12)\n",
    "plt.subplots_adjust(wspace=0.2, hspace=0.5)\n",
    "save_fig('fashion_mnist_images_plot', tight_layout=False)\n",
    "plt.show()"
   ]
  },
  {
   "cell_type": "markdown",
   "metadata": {},
   "source": [
    "# Regression MLP"
   ]
  },
  {
   "cell_type": "markdown",
   "metadata": {},
   "source": [
    "Let's load, split and scale the `California housing dataset` (the original one, not the modified one as in chapter 2):"
   ]
  },
  {
   "cell_type": "code",
   "execution_count": 54,
   "metadata": {},
   "outputs": [],
   "source": [
    "from sklearn.datasets import fetch_california_housing\n",
    "from sklearn.model_selection import train_test_split\n",
    "from sklearn.preprocessing import StandardScaler\n",
    "\n",
    "housing = fetch_california_housing()\n",
    "\n",
    "X_train_full, X_test, y_train_full, y_test = train_test_split(housing.data, housing.target, random_state=42)\n",
    "X_train, X_valid, y_train, y_valid = train_test_split(X_train_full, y_train_full, random_state=42)\n",
    "\n",
    "scaler = StandardScaler()\n",
    "X_train = scaler.fit_transform(X_train)\n",
    "X_valid = scaler.transform(X_valid)\n",
    "X_test = scaler.transform(X_test)"
   ]
  },
  {
   "cell_type": "code",
   "execution_count": 55,
   "metadata": {},
   "outputs": [],
   "source": [
    "np.random.seed(42)\n",
    "tf.random.set_seed(42)"
   ]
  },
  {
   "cell_type": "code",
   "execution_count": 56,
   "metadata": {},
   "outputs": [
    {
     "data": {
      "text/plain": [
       "(11610, 8)"
      ]
     },
     "execution_count": 56,
     "metadata": {},
     "output_type": "execute_result"
    }
   ],
   "source": [
    "X_train.shape"
   ]
  },
  {
   "cell_type": "code",
   "execution_count": 57,
   "metadata": {
    "scrolled": false
   },
   "outputs": [
    {
     "name": "stdout",
     "output_type": "stream",
     "text": [
      "Train on 11610 samples, validate on 3870 samples\n",
      "Epoch 1/20\n",
      "11610/11610 [==============================] - 3s 224us/sample - loss: 1.6321 - val_loss: 1.5903\n",
      "Epoch 2/20\n",
      "11610/11610 [==============================] - 2s 136us/sample - loss: 0.7124 - val_loss: 0.6539\n",
      "Epoch 3/20\n",
      "11610/11610 [==============================] - 2s 135us/sample - loss: 0.6348 - val_loss: 0.6039\n",
      "Epoch 4/20\n",
      "11610/11610 [==============================] - 2s 133us/sample - loss: 0.5983 - val_loss: 0.5738\n",
      "Epoch 5/20\n",
      "11610/11610 [==============================] - 2s 139us/sample - loss: 0.5713 - val_loss: 0.5406\n",
      "Epoch 6/20\n",
      "11610/11610 [==============================] - 2s 150us/sample - loss: 0.5482 - val_loss: 0.5221\n",
      "Epoch 7/20\n",
      "11610/11610 [==============================] - 2s 147us/sample - loss: 0.5298 - val_loss: 0.4965\n",
      "Epoch 8/20\n",
      "11610/11610 [==============================] - 1s 128us/sample - loss: 0.5138 - val_loss: 0.4843\n",
      "Epoch 9/20\n",
      "11610/11610 [==============================] - 1s 119us/sample - loss: 0.5005 - val_loss: 0.4684\n",
      "Epoch 10/20\n",
      "11610/11610 [==============================] - 1s 107us/sample - loss: 0.4884 - val_loss: 0.4558\n",
      "Epoch 11/20\n",
      "11610/11610 [==============================] - 1s 114us/sample - loss: 0.4783 - val_loss: 0.4469\n",
      "Epoch 12/20\n",
      "11610/11610 [==============================] - 1s 110us/sample - loss: 0.4696 - val_loss: 0.4383\n",
      "Epoch 13/20\n",
      "11610/11610 [==============================] - 1s 100us/sample - loss: 0.4621 - val_loss: 0.4320\n",
      "Epoch 14/20\n",
      "11610/11610 [==============================] - 1s 102us/sample - loss: 0.4554 - val_loss: 0.4255\n",
      "Epoch 15/20\n",
      "11610/11610 [==============================] - 1s 100us/sample - loss: 0.4495 - val_loss: 0.4184\n",
      "Epoch 16/20\n",
      "11610/11610 [==============================] - 1s 100us/sample - loss: 0.4443 - val_loss: 0.4126\n",
      "Epoch 17/20\n",
      "11610/11610 [==============================] - 1s 91us/sample - loss: 0.4397 - val_loss: 0.4087\n",
      "Epoch 18/20\n",
      "11610/11610 [==============================] - 1s 82us/sample - loss: 0.4352 - val_loss: 0.4057\n",
      "Epoch 19/20\n",
      "11610/11610 [==============================] - 1s 85us/sample - loss: 0.4316 - val_loss: 0.4005\n",
      "Epoch 20/20\n",
      "11610/11610 [==============================] - 1s 79us/sample - loss: 0.4280 - val_loss: 0.3975\n"
     ]
    },
    {
     "data": {
      "text/plain": [
       "0.4219739536906398"
      ]
     },
     "execution_count": 57,
     "metadata": {},
     "output_type": "execute_result"
    }
   ],
   "source": [
    "model = keras.models.Sequential([\n",
    "    keras.layers.Dense(30, activation=\"relu\", input_shape=X_train.shape[1:]),\n",
    "    keras.layers.Dense(1)\n",
    "])\n",
    "\n",
    "model.compile(loss=\"mean_squared_error\", optimizer=keras.optimizers.SGD(lr=1e-3))\n",
    "history = model.fit(X_train, y_train, epochs=20, validation_data=(X_valid, y_valid))\n",
    "mse_test = model.evaluate(X_test, y_test, verbose=0)\n",
    "\n",
    "X_new = X_test[:3]\n",
    "y_pred = model.predict(X_new)\n",
    "mse_test"
   ]
  },
  {
   "cell_type": "code",
   "execution_count": 58,
   "metadata": {},
   "outputs": [
    {
     "data": {
      "image/png": "[encoded data removed]",
      "text/plain": [
       "<Figure size 432x288 with 1 Axes>"
      ]
     },
     "metadata": {
      "needs_background": "light"
     },
     "output_type": "display_data"
    }
   ],
   "source": [
    "plt.plot(pd.DataFrame(history.history))\n",
    "plt.grid(True)\n",
    "plt.gca().set_ylim(0, 1)\n",
    "plt.show()"
   ]
  },
  {
   "cell_type": "code",
   "execution_count": 59,
   "metadata": {},
   "outputs": [
    {
     "data": {
      "text/plain": [
       "array([[0.36892918],\n",
       "       [1.6819053 ],\n",
       "       [3.0886497 ]], dtype=float32)"
      ]
     },
     "execution_count": 59,
     "metadata": {},
     "output_type": "execute_result"
    }
   ],
   "source": [
    "y_pred"
   ]
  },
  {
   "cell_type": "markdown",
   "metadata": {},
   "source": [
    "# Functional API"
   ]
  },
  {
   "cell_type": "markdown",
   "metadata": {},
   "source": [
    "Not all neural network models are simply sequential. Some may have complex topologies. Some may have multiple inputs and/or multiple outputs. For example, a Wide & Deep neural network (see [paper](https://ai.google/research/pubs/pub45413)) connects all or part of the inputs directly to the output layer."
   ]
  },
  {
   "cell_type": "markdown",
   "metadata": {},
   "source": [
    "![Figure 10-13](https://github.com/soo-pecialist/Hands_on_ML_w_Scikit_Karas_and_TensorFlow/blob/master/images_used/figure10-13.png?raw=true)"
   ]
  },
  {
   "cell_type": "markdown",
   "metadata": {},
   "source": [
    "Let’s build such a neural network to tackle the California housing problem:"
   ]
  },
  {
   "cell_type": "code",
   "execution_count": 60,
   "metadata": {},
   "outputs": [],
   "source": [
    "np.random.seed(42)\n",
    "tf.random.set_seed(42)"
   ]
  },
  {
   "cell_type": "code",
   "execution_count": 61,
   "metadata": {},
   "outputs": [],
   "source": [
    "input_ = keras.layers.Input(shape=X_train.shape[1:])\n",
    "# As soon as it is created, notice that we call it like a function, passing it the input. \n",
    "# This is why this is called the Functional API\n",
    "hidden1 = keras.layers.Dense(30, activation=\"relu\")(input_)\n",
    "hidden2 = keras.layers.Dense(30, activation=\"relu\")(hidden1)\n",
    "concat = keras.layers.concatenate([input_, hidden2])\n",
    "# create the output layer, with a single neuron and no activation function\n",
    "output = keras.layers.Dense(1)(concat)\n",
    "model = keras.models.Model(inputs=[input_], outputs=[output])"
   ]
  },
  {
   "cell_type": "code",
   "execution_count": 62,
   "metadata": {},
   "outputs": [
    {
     "name": "stdout",
     "output_type": "stream",
     "text": [
      "Model: \"model\"\n",
      "__________________________________________________________________________________________________\n",
      "Layer (type)                    Output Shape         Param #     Connected to                     \n",
      "==================================================================================================\n",
      "input_1 (InputLayer)            [(None, 8)]          0                                            \n",
      "__________________________________________________________________________________________________\n",
      "dense_5 (Dense)                 (None, 30)           270         input_1[0][0]                    \n",
      "__________________________________________________________________________________________________\n",
      "dense_6 (Dense)                 (None, 30)           930         dense_5[0][0]                    \n",
      "__________________________________________________________________________________________________\n",
      "concatenate (Concatenate)       (None, 38)           0           input_1[0][0]                    \n",
      "                                                                 dense_6[0][0]                    \n",
      "__________________________________________________________________________________________________\n",
      "dense_7 (Dense)                 (None, 1)            39          concatenate[0][0]                \n",
      "==================================================================================================\n",
      "Total params: 1,239\n",
      "Trainable params: 1,239\n",
      "Non-trainable params: 0\n",
      "__________________________________________________________________________________________________\n"
     ]
    }
   ],
   "source": [
    "model.summary()"
   ]
  },
  {
   "cell_type": "code",
   "execution_count": 63,
   "metadata": {
    "scrolled": false
   },
   "outputs": [
    {
     "name": "stdout",
     "output_type": "stream",
     "text": [
      "Train on 11610 samples, validate on 3870 samples\n",
      "Epoch 1/20\n",
      "11610/11610 [==============================] - 2s 136us/sample - loss: 1.2474 - val_loss: 0.8727\n",
      "Epoch 2/20\n",
      "11610/11610 [==============================] - 1s 75us/sample - loss: 0.6341 - val_loss: 0.8881\n",
      "Epoch 3/20\n",
      "11610/11610 [==============================] - 1s 82us/sample - loss: 0.5885 - val_loss: 0.5573\n",
      "Epoch 4/20\n",
      "11610/11610 [==============================] - 1s 79us/sample - loss: 0.5599 - val_loss: 0.5238\n",
      "Epoch 5/20\n",
      "11610/11610 [==============================] - 1s 80us/sample - loss: 0.5367 - val_loss: 0.6201\n",
      "Epoch 6/20\n",
      "11610/11610 [==============================] - 1s 81us/sample - loss: 0.5170 - val_loss: 0.4979\n",
      "Epoch 7/20\n",
      "11610/11610 [==============================] - 1s 79us/sample - loss: 0.5022 - val_loss: 0.5240\n",
      "Epoch 8/20\n",
      "11610/11610 [==============================] - 1s 75us/sample - loss: 0.4885 - val_loss: 0.4538\n",
      "Epoch 9/20\n",
      "11610/11610 [==============================] - 1s 76us/sample - loss: 0.4778 - val_loss: 0.4906\n",
      "Epoch 10/20\n",
      "11610/11610 [==============================] - 1s 77us/sample - loss: 0.4673 - val_loss: 0.4332\n",
      "Epoch 11/20\n",
      "11610/11610 [==============================] - 1s 70us/sample - loss: 0.4585 - val_loss: 0.4430\n",
      "Epoch 12/20\n",
      "11610/11610 [==============================] - 1s 71us/sample - loss: 0.4508 - val_loss: 0.4182\n",
      "Epoch 13/20\n",
      "11610/11610 [==============================] - 1s 71us/sample - loss: 0.4437 - val_loss: 0.4282\n",
      "Epoch 14/20\n",
      "11610/11610 [==============================] - 1s 66us/sample - loss: 0.4375 - val_loss: 0.4053\n",
      "Epoch 15/20\n",
      "11610/11610 [==============================] - 1s 72us/sample - loss: 0.4316 - val_loss: 0.4192\n",
      "Epoch 16/20\n",
      "11610/11610 [==============================] - 1s 72us/sample - loss: 0.4263 - val_loss: 0.3946\n",
      "Epoch 17/20\n",
      "11610/11610 [==============================] - 1s 63us/sample - loss: 0.4216 - val_loss: 0.4018\n",
      "Epoch 18/20\n",
      "11610/11610 [==============================] - 1s 65us/sample - loss: 0.4168 - val_loss: 0.3910\n",
      "Epoch 19/20\n",
      "11610/11610 [==============================] - 1s 61us/sample - loss: 0.4131 - val_loss: 0.3829\n",
      "Epoch 20/20\n",
      "11610/11610 [==============================] - 1s 63us/sample - loss: 0.4093 - val_loss: 0.3807\n"
     ]
    }
   ],
   "source": [
    "model.compile(loss=\"mean_squared_error\", optimizer=keras.optimizers.SGD(lr=1e-3))\n",
    "history = model.fit(X_train, y_train, epochs=20,\n",
    "                    validation_data=(X_valid, y_valid))\n",
    "mse_test = model.evaluate(X_test, y_test, verbose=0)\n",
    "y_pred = model.predict(X_new)"
   ]
  },
  {
   "cell_type": "code",
   "execution_count": 64,
   "metadata": {},
   "outputs": [
    {
     "data": {
      "text/plain": [
       "0.4045557499855988"
      ]
     },
     "execution_count": 64,
     "metadata": {},
     "output_type": "execute_result"
    }
   ],
   "source": [
    "mse_test"
   ]
  },
  {
   "cell_type": "code",
   "execution_count": 65,
   "metadata": {},
   "outputs": [
    {
     "data": {
      "text/plain": [
       "array([[0.4686121],\n",
       "       [1.8569269],\n",
       "       [3.340442 ]], dtype=float32)"
      ]
     },
     "execution_count": 65,
     "metadata": {},
     "output_type": "execute_result"
    }
   ],
   "source": [
    "y_pred"
   ]
  },
  {
   "cell_type": "markdown",
   "metadata": {},
   "source": [
    "What if you want to send different subsets of input features through the wide or deep paths? We will send 5 features (features 0 to 4), and 6 through the deep path (features 2 to 7). Note that 3 features will go through both (features 2, 3 and 4)."
   ]
  },
  {
   "cell_type": "markdown",
   "metadata": {},
   "source": [
    "![Figure 10-14](https://github.com/soo-pecialist/Hands_on_ML_w_Scikit_Karas_and_TensorFlow/blob/master/images_used/figure10_14.png?raw=true)"
   ]
  },
  {
   "cell_type": "code",
   "execution_count": 66,
   "metadata": {},
   "outputs": [],
   "source": [
    "np.random.seed(42)\n",
    "tf.random.set_seed(42)"
   ]
  },
  {
   "cell_type": "code",
   "execution_count": 67,
   "metadata": {},
   "outputs": [],
   "source": [
    "input_A = keras.layers.Input(shape=[5], name=\"wide_input\")\n",
    "input_B = keras.layers.Input(shape=[6], name=\"deep_input\")\n",
    "hidden1 = keras.layers.Dense(30, activation=\"relu\")(input_B)\n",
    "hidden2 = keras.layers.Dense(30, activation=\"relu\")(hidden1)\n",
    "concat = keras.layers.concatenate([input_A, hidden2])\n",
    "output = keras.layers.Dense(1, name=\"output\")(concat)\n",
    "model = keras.models.Model(inputs=[input_A, input_B], outputs=[output])"
   ]
  },
  {
   "cell_type": "code",
   "execution_count": 68,
   "metadata": {},
   "outputs": [
    {
     "name": "stdout",
     "output_type": "stream",
     "text": [
      "Train on 11610 samples, validate on 3870 samples\n",
      "Epoch 1/20\n",
      "11610/11610 [==============================] - 1s 90us/sample - loss: 1.8095 - val_loss: 1.4409\n",
      "Epoch 2/20\n",
      "11610/11610 [==============================] - 1s 57us/sample - loss: 0.6798 - val_loss: 0.6123\n",
      "Epoch 3/20\n",
      "11610/11610 [==============================] - 1s 56us/sample - loss: 0.5957 - val_loss: 0.5618\n",
      "Epoch 4/20\n",
      "11610/11610 [==============================] - 1s 55us/sample - loss: 0.5580 - val_loss: 0.5514\n",
      "Epoch 5/20\n",
      "11610/11610 [==============================] - 1s 57us/sample - loss: 0.5331 - val_loss: 0.5073\n",
      "Epoch 6/20\n",
      "11610/11610 [==============================] - 1s 58us/sample - loss: 0.5124 - val_loss: 0.4860\n",
      "Epoch 7/20\n",
      "11610/11610 [==============================] - 1s 52us/sample - loss: 0.4972 - val_loss: 0.4631\n",
      "Epoch 8/20\n",
      "11610/11610 [==============================] - 1s 51us/sample - loss: 0.4834 - val_loss: 0.4514\n",
      "Epoch 9/20\n",
      "11610/11610 [==============================] - 1s 50us/sample - loss: 0.4746 - val_loss: 0.4436\n",
      "Epoch 10/20\n",
      "11610/11610 [==============================] - 1s 50us/sample - loss: 0.4648 - val_loss: 0.4318\n",
      "Epoch 11/20\n",
      "11610/11610 [==============================] - 1s 48us/sample - loss: 0.4575 - val_loss: 0.4269\n",
      "Epoch 12/20\n",
      "11610/11610 [==============================] - 1s 50us/sample - loss: 0.4520 - val_loss: 0.4190\n",
      "Epoch 13/20\n",
      "11610/11610 [==============================] - 1s 53us/sample - loss: 0.4474 - val_loss: 0.4136\n",
      "Epoch 14/20\n",
      "11610/11610 [==============================] - 1s 49us/sample - loss: 0.4424 - val_loss: 0.4072\n",
      "Epoch 15/20\n",
      "11610/11610 [==============================] - 1s 48us/sample - loss: 0.4389 - val_loss: 0.4169\n",
      "Epoch 16/20\n",
      "11610/11610 [==============================] - 1s 46us/sample - loss: 0.4360 - val_loss: 0.4023\n",
      "Epoch 17/20\n",
      "11610/11610 [==============================] - 1s 46us/sample - loss: 0.4329 - val_loss: 0.4153\n",
      "Epoch 18/20\n",
      "11610/11610 [==============================] - 1s 46us/sample - loss: 0.4300 - val_loss: 0.4054\n",
      "Epoch 19/20\n",
      "11610/11610 [==============================] - 1s 46us/sample - loss: 0.4282 - val_loss: 0.3941\n",
      "Epoch 20/20\n",
      "11610/11610 [==============================] - 1s 48us/sample - loss: 0.4256 - val_loss: 0.4022\n"
     ]
    }
   ],
   "source": [
    "model.compile(loss=\"mse\", optimizer=keras.optimizers.SGD(lr=1e-3))\n",
    "\n",
    "X_train_A, X_train_B = X_train[:, :5], X_train[:, 2:]\n",
    "X_valid_A, X_valid_B = X_valid[:, :5], X_valid[:, 2:]\n",
    "X_test_A, X_test_B = X_test[:, :5], X_test[:, 2:]\n",
    "X_new_A, X_new_B = X_test_A[:3], X_test_B[:3]\n",
    "\n",
    "history = model.fit((X_train_A, X_train_B), y_train, epochs=20,\n",
    "                    validation_data=((X_valid_A, X_valid_B), y_valid))\n",
    "mse_test = model.evaluate((X_test_A, X_test_B), y_test, verbose=0)\n",
    "y_pred = model.predict((X_new_A, X_new_B))"
   ]
  },
  {
   "cell_type": "code",
   "execution_count": 69,
   "metadata": {},
   "outputs": [
    {
     "data": {
      "text/plain": [
       "0.4249315629633822"
      ]
     },
     "execution_count": 69,
     "metadata": {},
     "output_type": "execute_result"
    }
   ],
   "source": [
    "mse_test"
   ]
  },
  {
   "cell_type": "code",
   "execution_count": 70,
   "metadata": {},
   "outputs": [
    {
     "data": {
      "text/plain": [
       "array([[0.2949911],\n",
       "       [1.9546194],\n",
       "       [3.4345765]], dtype=float32)"
      ]
     },
     "execution_count": 70,
     "metadata": {},
     "output_type": "execute_result"
    }
   ],
   "source": [
    "y_pred"
   ]
  },
  {
   "cell_type": "markdown",
   "metadata": {},
   "source": [
    "Another use case is as a regularization technique (i.e., a training constraint whose objective is to reduce overfitting and thus improve the model’s ability to generalize). For example, you may want to add some auxiliary outputs in a neural network architecture  to ensure that the underlying part of the network learns something useful on its own, without relying on the rest of the network."
   ]
  },
  {
   "cell_type": "markdown",
   "metadata": {},
   "source": [
    "Adding an auxiliary output for regularization:"
   ]
  },
  {
   "cell_type": "markdown",
   "metadata": {},
   "source": [
    "![Figure 10-15](https://github.com/soo-pecialist/Hands_on_ML_w_Scikit_Karas_and_TensorFlow/blob/master/images_used/figure10_15.png?raw=true)"
   ]
  },
  {
   "cell_type": "code",
   "execution_count": 71,
   "metadata": {},
   "outputs": [],
   "source": [
    "np.random.seed(42)\n",
    "tf.random.set_seed(42)"
   ]
  },
  {
   "cell_type": "code",
   "execution_count": 72,
   "metadata": {},
   "outputs": [],
   "source": [
    "# Beware of input at each layer\n",
    "input_A = keras.layers.Input(shape=[5], name=\"wide_input\")\n",
    "input_B = keras.layers.Input(shape=[6], name=\"deep_input\")\n",
    "\n",
    "hidden1 = keras.layers.Dense(30, activation=\"relu\")(input_B)\n",
    "hidden2 = keras.layers.Dense(30, activation=\"relu\")(hidden1)\n",
    "\n",
    "concat = keras.layers.concatenate([input_A, hidden2])\n",
    "\n",
    "output = keras.layers.Dense(1, name=\"main_output\")(concat)\n",
    "aux_output = keras.layers.Dense(1, name=\"aux_output\")(hidden2)\n",
    "\n",
    "# specify that we have 2 inputs and 2 outputs\n",
    "model = keras.models.Model(inputs=[input_A, input_B],\n",
    "                           outputs=[output, aux_output])"
   ]
  },
  {
   "cell_type": "markdown",
   "metadata": {},
   "source": [
    "Each output will need its own loss function, so when we compile the model we should pass a list of losses (if we pass a single loss, Keras will assume that the same loss must be used for all outputs). By default, Keras will compute all these losses and __simply add them up to get the final loss used for training__. However, we __care much more about the main output__ than about the auxiliary output (as it is just used for regularization), so we want to give the main output’s loss a much __greater weight__. Fortunately, it is possible to set all the loss weights when compiling the model:"
   ]
  },
  {
   "cell_type": "code",
   "execution_count": 73,
   "metadata": {},
   "outputs": [],
   "source": [
    "model.compile(loss=[\"mse\", \"mse\"], \n",
    "              loss_weights=[0.9, 0.1], \n",
    "              optimizer=keras.optimizers.SGD(lr=1e-3))"
   ]
  },
  {
   "cell_type": "code",
   "execution_count": 74,
   "metadata": {},
   "outputs": [
    {
     "name": "stdout",
     "output_type": "stream",
     "text": [
      "Train on 11610 samples, validate on 3870 samples\n",
      "Epoch 1/20\n",
      "11610/11610 [==============================] - 1s 97us/sample - loss: 2.1329 - main_output_loss: 1.9166 - aux_output_loss: 4.0719 - val_loss: 2.2885 - val_main_output_loss: 1.5657 - val_aux_output_loss: 8.7861\n",
      "Epoch 2/20\n",
      "11610/11610 [==============================] - 1s 51us/sample - loss: 0.8910 - main_output_loss: 0.6989 - aux_output_loss: 2.6202 - val_loss: 1.4258 - val_main_output_loss: 0.6285 - val_aux_output_loss: 8.5972\n",
      "Epoch 3/20\n",
      "11610/11610 [==============================] - 1s 51us/sample - loss: 0.7397 - main_output_loss: 0.6064 - aux_output_loss: 1.9374 - val_loss: 1.3894 - val_main_output_loss: 0.5941 - val_aux_output_loss: 8.5417\n",
      "Epoch 4/20\n",
      "11610/11610 [==============================] - 1s 52us/sample - loss: 0.6746 - main_output_loss: 0.5684 - aux_output_loss: 1.6301 - val_loss: 1.3275 - val_main_output_loss: 0.6028 - val_aux_output_loss: 7.8451\n",
      "Epoch 5/20\n",
      "11610/11610 [==============================] - 1s 55us/sample - loss: 0.6363 - main_output_loss: 0.5435 - aux_output_loss: 1.4718 - val_loss: 1.1835 - val_main_output_loss: 0.5129 - val_aux_output_loss: 7.2143\n",
      "Epoch 6/20\n",
      "11610/11610 [==============================] - 1s 55us/sample - loss: 0.6069 - main_output_loss: 0.5207 - aux_output_loss: 1.3822 - val_loss: 1.0730 - val_main_output_loss: 0.5223 - val_aux_output_loss: 6.0249\n",
      "Epoch 7/20\n",
      "11610/11610 [==============================] - 1s 52us/sample - loss: 0.5846 - main_output_loss: 0.5042 - aux_output_loss: 1.3088 - val_loss: 0.9560 - val_main_output_loss: 0.4858 - val_aux_output_loss: 5.1844\n",
      "Epoch 8/20\n",
      "11610/11610 [==============================] - 1s 53us/sample - loss: 0.5651 - main_output_loss: 0.4887 - aux_output_loss: 1.2531 - val_loss: 0.8607 - val_main_output_loss: 0.4838 - val_aux_output_loss: 4.2492\n",
      "Epoch 9/20\n",
      "11610/11610 [==============================] - 1s 52us/sample - loss: 0.5509 - main_output_loss: 0.4785 - aux_output_loss: 1.2035 - val_loss: 0.7745 - val_main_output_loss: 0.4487 - val_aux_output_loss: 3.7042\n",
      "Epoch 10/20\n",
      "11610/11610 [==============================] - 1s 53us/sample - loss: 0.5373 - main_output_loss: 0.4671 - aux_output_loss: 1.1684 - val_loss: 0.7035 - val_main_output_loss: 0.4405 - val_aux_output_loss: 3.0682\n",
      "Epoch 11/20\n",
      "11610/11610 [==============================] - 1s 52us/sample - loss: 0.5265 - main_output_loss: 0.4591 - aux_output_loss: 1.1317 - val_loss: 0.6478 - val_main_output_loss: 0.4307 - val_aux_output_loss: 2.5991\n",
      "Epoch 12/20\n",
      "11610/11610 [==============================] - 1s 54us/sample - loss: 0.5177 - main_output_loss: 0.4527 - aux_output_loss: 1.1031 - val_loss: 0.6002 - val_main_output_loss: 0.4234 - val_aux_output_loss: 2.1902\n",
      "Epoch 13/20\n",
      "11610/11610 [==============================] - 1s 54us/sample - loss: 0.5100 - main_output_loss: 0.4473 - aux_output_loss: 1.0758 - val_loss: 0.5638 - val_main_output_loss: 0.4153 - val_aux_output_loss: 1.8992\n",
      "Epoch 14/20\n",
      "11610/11610 [==============================] - 1s 53us/sample - loss: 0.5028 - main_output_loss: 0.4420 - aux_output_loss: 1.0510 - val_loss: 0.5344 - val_main_output_loss: 0.4111 - val_aux_output_loss: 1.6419\n",
      "Epoch 15/20\n",
      "11610/11610 [==============================] - 1s 54us/sample - loss: 0.4969 - main_output_loss: 0.4379 - aux_output_loss: 1.0276 - val_loss: 0.5152 - val_main_output_loss: 0.4061 - val_aux_output_loss: 1.4951\n",
      "Epoch 16/20\n",
      "11610/11610 [==============================] - 1s 51us/sample - loss: 0.4917 - main_output_loss: 0.4344 - aux_output_loss: 1.0075 - val_loss: 0.4950 - val_main_output_loss: 0.4015 - val_aux_output_loss: 1.3357\n",
      "Epoch 17/20\n",
      "11610/11610 [==============================] - 1s 54us/sample - loss: 0.4871 - main_output_loss: 0.4314 - aux_output_loss: 0.9873 - val_loss: 0.4886 - val_main_output_loss: 0.4047 - val_aux_output_loss: 1.2428\n",
      "Epoch 18/20\n",
      "11610/11610 [==============================] - 1s 51us/sample - loss: 0.4825 - main_output_loss: 0.4283 - aux_output_loss: 0.9695 - val_loss: 0.4770 - val_main_output_loss: 0.4020 - val_aux_output_loss: 1.1506\n",
      "Epoch 19/20\n",
      "11610/11610 [==============================] - 1s 52us/sample - loss: 0.4792 - main_output_loss: 0.4268 - aux_output_loss: 0.9509 - val_loss: 0.4631 - val_main_output_loss: 0.3952 - val_aux_output_loss: 1.0726\n",
      "Epoch 20/20\n",
      "11610/11610 [==============================] - 1s 53us/sample - loss: 0.4754 - main_output_loss: 0.4243 - aux_output_loss: 0.9344 - val_loss: 0.4643 - val_main_output_loss: 0.4013 - val_aux_output_loss: 1.0297\n"
     ]
    }
   ],
   "source": [
    "# note that now we feed [y_valid, y_valid] at `validation_data`\n",
    "history = model.fit([X_train_A, X_train_B], [y_train, y_train], \n",
    "                    epochs=20,\n",
    "                    validation_data=([X_valid_A, X_valid_B], [y_valid, y_valid]))"
   ]
  },
  {
   "cell_type": "markdown",
   "metadata": {},
   "source": [
    "When we evaluate the model, Keras will return the total loss, as well as all the individual losses:"
   ]
  },
  {
   "cell_type": "code",
   "execution_count": 75,
   "metadata": {},
   "outputs": [],
   "source": [
    "total_loss, main_loss, aux_loss = model.evaluate([X_test_A, X_test_B], [y_test, y_test],\n",
    "                                                verbose=0)\n",
    "y_pred_main, y_pred_aux = model.predict([X_new_A, X_new_B])"
   ]
  },
  {
   "cell_type": "code",
   "execution_count": 76,
   "metadata": {},
   "outputs": [
    {
     "data": {
      "text/plain": [
       "(0.4683263566142829, 0.41918433, 0.91364497)"
      ]
     },
     "execution_count": 76,
     "metadata": {},
     "output_type": "execute_result"
    }
   ],
   "source": [
    "total_loss, main_loss, aux_loss"
   ]
  },
  {
   "cell_type": "code",
   "execution_count": 77,
   "metadata": {},
   "outputs": [
    {
     "data": {
      "text/plain": [
       "array([[0.25949997],\n",
       "       [1.9820837 ],\n",
       "       [3.3337932 ]], dtype=float32)"
      ]
     },
     "execution_count": 77,
     "metadata": {},
     "output_type": "execute_result"
    }
   ],
   "source": [
    "y_pred_main"
   ]
  },
  {
   "cell_type": "code",
   "execution_count": 78,
   "metadata": {},
   "outputs": [
    {
     "data": {
      "text/plain": [
       "array([[0.9526369],\n",
       "       [1.9273019],\n",
       "       [2.5151913]], dtype=float32)"
      ]
     },
     "execution_count": 78,
     "metadata": {},
     "output_type": "execute_result"
    }
   ],
   "source": [
    "y_pred_aux"
   ]
  },
  {
   "cell_type": "markdown",
   "metadata": {},
   "source": [
    "# The subclassing API"
   ]
  },
  {
   "cell_type": "markdown",
   "metadata": {},
   "source": [
    "Some models involve loops, varying shapes, conditional branching, and other dynamic behaviors. For such cases, or simply if you prefer a more impera‐ tive programming style, the Subclassing API is for you.\n",
    "\n",
    "Simply subclass the `Model` class, create the layers you need in the constructor, and use them to perform the computations you want in the `call()` method. For example, creating an instance of the following `WideAndDeepModel` class gives us an equivalent model to the one we just built with the Functional API. You can then compile it, evaluate it and use it to make predictions, exactly like we just did."
   ]
  },
  {
   "cell_type": "code",
   "execution_count": 79,
   "metadata": {},
   "outputs": [],
   "source": [
    "class WideAndDeepModel(keras.models.Model):\n",
    "    def __init__(self, units=30, activation=\"relu\", **kwargs):\n",
    "        super().__init__(**kwargs)\n",
    "        self.hidden1 = keras.layers.Dense(units, activation=activation)\n",
    "        self.hidden2 = keras.layers.Dense(units, activation=activation)\n",
    "        self.main_output = keras.layers.Dense(1)\n",
    "        self.aux_output = keras.layers.Dense(1)\n",
    "        \n",
    "    def call(self, inputs):\n",
    "        input_A, input_B = inputs\n",
    "        hidden1 = self.hidden1(input_B)\n",
    "        hidden2 = self.hidden2(hidden1)\n",
    "        concat = keras.layers.concatenate([input_A, hidden2])\n",
    "        main_output = self.main_output(concat)\n",
    "        aux_output = self.aux_output(hidden2)\n",
    "        return main_output, aux_output\n",
    "\n",
    "model = WideAndDeepModel(30, activation=\"relu\")"
   ]
  },
  {
   "cell_type": "code",
   "execution_count": 80,
   "metadata": {},
   "outputs": [
    {
     "name": "stdout",
     "output_type": "stream",
     "text": [
      "Train on 11610 samples, validate on 3870 samples\n",
      "Epoch 1/10\n",
      "11610/11610 [==============================] - 1s 112us/sample - loss: 2.2968 - output_1_loss: 2.1826 - output_2_loss: 3.3166 - val_loss: 3.0093 - val_output_1_loss: 1.5519 - val_output_2_loss: 16.1139\n",
      "Epoch 2/10\n",
      "11610/11610 [==============================] - 1s 52us/sample - loss: 0.9760 - output_1_loss: 0.8529 - output_2_loss: 2.0834 - val_loss: 1.9290 - val_output_1_loss: 0.7524 - val_output_2_loss: 12.5119\n",
      "Epoch 3/10\n",
      "11610/11610 [==============================] - 1s 53us/sample - loss: 0.8288 - output_1_loss: 0.7270 - output_2_loss: 1.7431 - val_loss: 1.6768 - val_output_1_loss: 0.7256 - val_output_2_loss: 10.2305\n",
      "Epoch 4/10\n",
      "11610/11610 [==============================] - 1s 50us/sample - loss: 0.7637 - output_1_loss: 0.6744 - output_2_loss: 1.5665 - val_loss: 1.4544 - val_output_1_loss: 0.6860 - val_output_2_loss: 8.3638\n",
      "Epoch 5/10\n",
      "11610/11610 [==============================] - 1s 52us/sample - loss: 0.7227 - output_1_loss: 0.6411 - output_2_loss: 1.4571 - val_loss: 1.2427 - val_output_1_loss: 0.5967 - val_output_2_loss: 7.0528\n",
      "Epoch 6/10\n",
      "11610/11610 [==============================] - 1s 53us/sample - loss: 0.6895 - output_1_loss: 0.6112 - output_2_loss: 1.3930 - val_loss: 1.0799 - val_output_1_loss: 0.6053 - val_output_2_loss: 5.3475\n",
      "Epoch 7/10\n",
      "11610/11610 [==============================] - 1s 50us/sample - loss: 0.6636 - output_1_loss: 0.5896 - output_2_loss: 1.3307 - val_loss: 0.9392 - val_output_1_loss: 0.5494 - val_output_2_loss: 4.4450\n",
      "Epoch 8/10\n",
      "11610/11610 [==============================] - 1s 49us/sample - loss: 0.6405 - output_1_loss: 0.5690 - output_2_loss: 1.2844 - val_loss: 0.8430 - val_output_1_loss: 0.5423 - val_output_2_loss: 3.5472\n",
      "Epoch 9/10\n",
      "11610/11610 [==============================] - 1s 49us/sample - loss: 0.6206 - output_1_loss: 0.5518 - output_2_loss: 1.2407 - val_loss: 0.7637 - val_output_1_loss: 0.5070 - val_output_2_loss: 3.0717\n",
      "Epoch 10/10\n",
      "11610/11610 [==============================] - 1s 49us/sample - loss: 0.6021 - output_1_loss: 0.5351 - output_2_loss: 1.2050 - val_loss: 0.7024 - val_output_1_loss: 0.4924 - val_output_2_loss: 2.5903\n"
     ]
    }
   ],
   "source": [
    "# same as before\n",
    "model.compile(loss=\"mse\", \n",
    "              loss_weights=[0.9, 0.1], \n",
    "              optimizer=keras.optimizers.SGD(lr=1e-3))\n",
    "history = model.fit((X_train_A, X_train_B), (y_train, y_train), epochs=10,\n",
    "                    validation_data=((X_valid_A, X_valid_B), (y_valid, y_valid)))\n",
    "total_loss, main_loss, aux_loss = model.evaluate((X_test_A, X_test_B), \n",
    "                                                 (y_test, y_test),\n",
    "                                                 verbose=0)\n",
    "y_pred_main, y_pred_aux = model.predict((X_new_A, X_new_B))"
   ]
  },
  {
   "cell_type": "code",
   "execution_count": 81,
   "metadata": {},
   "outputs": [],
   "source": [
    "model = WideAndDeepModel(30, activation=\"relu\")"
   ]
  },
  {
   "cell_type": "markdown",
   "metadata": {},
   "source": [
    "# Saving and Restoring"
   ]
  },
  {
   "cell_type": "code",
   "execution_count": 82,
   "metadata": {},
   "outputs": [],
   "source": [
    "np.random.seed(42)\n",
    "tf.random.set_seed(42)"
   ]
  },
  {
   "cell_type": "code",
   "execution_count": 83,
   "metadata": {},
   "outputs": [],
   "source": [
    "model = keras.models.Sequential([\n",
    "    keras.layers.Dense(30, activation=\"relu\", input_shape=[8]),\n",
    "    keras.layers.Dense(30, activation=\"relu\"),\n",
    "    keras.layers.Dense(1)\n",
    "])    "
   ]
  },
  {
   "cell_type": "code",
   "execution_count": 84,
   "metadata": {
    "scrolled": false
   },
   "outputs": [
    {
     "name": "stdout",
     "output_type": "stream",
     "text": [
      "Train on 11610 samples, validate on 3870 samples\n",
      "Epoch 1/10\n",
      "11610/11610 [==============================] - 1s 65us/sample - loss: 1.8631 - val_loss: 3.2403\n",
      "Epoch 2/10\n",
      "11610/11610 [==============================] - 0s 42us/sample - loss: 0.6723 - val_loss: 0.6939\n",
      "Epoch 3/10\n",
      "11610/11610 [==============================] - 0s 40us/sample - loss: 0.5927 - val_loss: 0.5531\n",
      "Epoch 4/10\n",
      "11610/11610 [==============================] - 0s 41us/sample - loss: 0.5550 - val_loss: 0.5519\n",
      "Epoch 5/10\n",
      "11610/11610 [==============================] - 0s 42us/sample - loss: 0.5278 - val_loss: 0.5715\n",
      "Epoch 6/10\n",
      "11610/11610 [==============================] - 1s 43us/sample - loss: 0.5032 - val_loss: 0.5591\n",
      "Epoch 7/10\n",
      "11610/11610 [==============================] - 0s 41us/sample - loss: 0.4863 - val_loss: 0.4593\n",
      "Epoch 8/10\n",
      "11610/11610 [==============================] - 0s 43us/sample - loss: 0.4701 - val_loss: 0.4651\n",
      "Epoch 9/10\n",
      "11610/11610 [==============================] - 1s 44us/sample - loss: 0.4586 - val_loss: 0.4392\n",
      "Epoch 10/10\n",
      "11610/11610 [==============================] - 0s 40us/sample - loss: 0.4476 - val_loss: 0.4257\n"
     ]
    },
    {
     "data": {
      "text/plain": [
       "0.43821001052856445"
      ]
     },
     "execution_count": 84,
     "metadata": {},
     "output_type": "execute_result"
    }
   ],
   "source": [
    "model.compile(loss=\"mse\", optimizer=keras.optimizers.SGD(lr=1e-3))\n",
    "history = model.fit(X_train, y_train, epochs=10, validation_data=(X_valid, y_valid))\n",
    "mse_test = model.evaluate(X_test, y_test, verbose = 0)\n",
    "mse_test"
   ]
  },
  {
   "cell_type": "code",
   "execution_count": 85,
   "metadata": {},
   "outputs": [],
   "source": [
    "model.save(\"my_keras_model.h5\")"
   ]
  },
  {
   "cell_type": "markdown",
   "metadata": {},
   "source": [
    "Saving a trained Keras model is as simple as it gets!\n",
    "\n",
    "Keras will save both the model’s architecture (including every layer’s hyperparameters) and the value of all the model parameters for every layer (e.g., connection weights and biases), using the HDF5 format. It also saves the optimizer (including its hyperparameters and any state it may have).\n",
    "\n",
    " Loading the model is just as easy:"
   ]
  },
  {
   "cell_type": "code",
   "execution_count": 86,
   "metadata": {},
   "outputs": [],
   "source": [
    "model = keras.models.load_model(\"my_keras_model.h5\")"
   ]
  },
  {
   "cell_type": "code",
   "execution_count": 87,
   "metadata": {},
   "outputs": [
    {
     "data": {
      "text/plain": [
       "array([[0.54909724],\n",
       "       [1.6584849 ],\n",
       "       [3.0271604 ]], dtype=float32)"
      ]
     },
     "execution_count": 87,
     "metadata": {},
     "output_type": "execute_result"
    }
   ],
   "source": [
    "model.predict(X_new)"
   ]
  },
  {
   "cell_type": "markdown",
   "metadata": {},
   "source": [
    "This will work when using the `Sequential API` or the `Functional API`, but unfortunately __not__ when using `Model subclassing`. However, you can use `save_weights()` and `load_weights()` to at least save and restore the model parameters (but you will need to save and restore everything else yourself)."
   ]
  },
  {
   "cell_type": "code",
   "execution_count": 88,
   "metadata": {},
   "outputs": [],
   "source": [
    "model.save_weights(\"my_keras_weights.ckpt\")"
   ]
  },
  {
   "cell_type": "code",
   "execution_count": 89,
   "metadata": {},
   "outputs": [
    {
     "data": {
      "text/plain": [
       "<tensorflow.python.training.tracking.util.CheckpointLoadStatus at 0x7fbcd0700a20>"
      ]
     },
     "execution_count": 89,
     "metadata": {},
     "output_type": "execute_result"
    }
   ],
   "source": [
    "model.load_weights(\"my_keras_weights.ckpt\")"
   ]
  },
  {
   "cell_type": "markdown",
   "metadata": {},
   "source": [
    "# Using Callbacks during Training"
   ]
  },
  {
   "cell_type": "markdown",
   "metadata": {},
   "source": [
    "But what if training lasts several hours? This is quite common, especially when training on large datasets. In this case, you should not only save your model at the end of training, but also save checkpoints at regular intervals during training. But how can you tell the `fit()` method to save checkpoints? The answer is: using `callbacks`."
   ]
  },
  {
   "cell_type": "code",
   "execution_count": 90,
   "metadata": {},
   "outputs": [],
   "source": [
    "keras.backend.clear_session()\n",
    "np.random.seed(42)\n",
    "tf.random.set_seed(42)"
   ]
  },
  {
   "cell_type": "code",
   "execution_count": 91,
   "metadata": {},
   "outputs": [],
   "source": [
    "model = keras.models.Sequential([\n",
    "    keras.layers.Dense(30, activation=\"relu\", input_shape=[8]),\n",
    "    keras.layers.Dense(30, activation=\"relu\"),\n",
    "    keras.layers.Dense(1)\n",
    "])    "
   ]
  },
  {
   "cell_type": "markdown",
   "metadata": {},
   "source": [
    "if you use a validation set during training, you can set `save_best_only=True` when creating the `ModelCheckpoin`t. In this case, it will only save your model when its performance on the validation set is the best so far. This way, you do not need to worry about training for too long and overfitting the training set: simply restore the last model saved after training, and this will be the best model on the validation set."
   ]
  },
  {
   "cell_type": "code",
   "execution_count": 92,
   "metadata": {},
   "outputs": [
    {
     "name": "stdout",
     "output_type": "stream",
     "text": [
      "Train on 11610 samples, validate on 3870 samples\n",
      "Epoch 1/10\n",
      "11610/11610 [==============================] - 1s 65us/sample - loss: 1.8631 - val_loss: 3.2403\n",
      "Epoch 2/10\n",
      "11610/11610 [==============================] - 0s 39us/sample - loss: 0.6723 - val_loss: 0.6939\n",
      "Epoch 3/10\n",
      "11610/11610 [==============================] - 1s 47us/sample - loss: 0.5927 - val_loss: 0.5531\n",
      "Epoch 4/10\n",
      "11610/11610 [==============================] - 1s 44us/sample - loss: 0.5550 - val_loss: 0.5519\n",
      "Epoch 5/10\n",
      "11610/11610 [==============================] - 0s 38us/sample - loss: 0.5278 - val_loss: 0.5715\n",
      "Epoch 6/10\n",
      "11610/11610 [==============================] - 0s 41us/sample - loss: 0.5032 - val_loss: 0.5591\n",
      "Epoch 7/10\n",
      "11610/11610 [==============================] - 0s 39us/sample - loss: 0.4863 - val_loss: 0.4593\n",
      "Epoch 8/10\n",
      "11610/11610 [==============================] - 0s 40us/sample - loss: 0.4701 - val_loss: 0.4651\n",
      "Epoch 9/10\n",
      "11610/11610 [==============================] - 0s 40us/sample - loss: 0.4586 - val_loss: 0.4392\n",
      "Epoch 10/10\n",
      "11610/11610 [==============================] - 0s 40us/sample - loss: 0.4476 - val_loss: 0.4257\n"
     ]
    },
    {
     "data": {
      "text/plain": [
       "0.43821001052856445"
      ]
     },
     "execution_count": 92,
     "metadata": {},
     "output_type": "execute_result"
    }
   ],
   "source": [
    "model.compile(loss=\"mse\", optimizer=keras.optimizers.SGD(lr=1e-3))\n",
    "checkpoint_cb = keras.callbacks.ModelCheckpoint(\"my_keras_model.h5\", save_best_only=True)\n",
    "history = model.fit(X_train, y_train, epochs=10,\n",
    "                    validation_data=(X_valid, y_valid),\n",
    "                    callbacks=[checkpoint_cb])\n",
    "model = keras.models.load_model(\"my_keras_model.h5\") # rollback to best model\n",
    "mse_test = model.evaluate(X_test, y_test, verbose=0)\n",
    "mse_test"
   ]
  },
  {
   "cell_type": "markdown",
   "metadata": {},
   "source": [
    "Another way to implement early stopping is to simply use the `EarlyStopping` callback. It will interrupt training when it measures no progress on the validation set for a number of epochs (defined by the patience argument), and it will optionally roll back to the best model. You can combine both callbacks to both save checkpoints of your model (in case your computer crashes), and actually interrupt training early when there is no more progress.\n",
    "\n",
    "The number of epochs can be set to a large value since training will stop automatically when there is no more progress. Moreover, there is no need to restore the best model saved in this case since the `EarlyStopping` callback will keep track of the best weights and restore them for us at the end of training."
   ]
  },
  {
   "cell_type": "code",
   "execution_count": 93,
   "metadata": {
    "scrolled": true
   },
   "outputs": [
    {
     "name": "stdout",
     "output_type": "stream",
     "text": [
      "Train on 11610 samples, validate on 3870 samples\n",
      "Epoch 1/100\n",
      "11610/11610 [==============================] - 1s 75us/sample - loss: 0.4388 - val_loss: 0.4122\n",
      "Epoch 2/100\n",
      "11610/11610 [==============================] - 0s 40us/sample - loss: 0.4319 - val_loss: 0.4046\n",
      "Epoch 3/100\n",
      "11610/11610 [==============================] - 0s 38us/sample - loss: 0.4256 - val_loss: 0.4065\n",
      "Epoch 4/100\n",
      "11610/11610 [==============================] - 0s 38us/sample - loss: 0.4202 - val_loss: 0.3998\n",
      "Epoch 5/100\n",
      "11610/11610 [==============================] - 0s 39us/sample - loss: 0.4157 - val_loss: 0.3970\n",
      "Epoch 6/100\n",
      "11610/11610 [==============================] - 0s 39us/sample - loss: 0.4112 - val_loss: 0.3964\n",
      "Epoch 7/100\n",
      "11610/11610 [==============================] - 0s 39us/sample - loss: 0.4072 - val_loss: 0.3807\n",
      "Epoch 8/100\n",
      "11610/11610 [==============================] - 0s 38us/sample - loss: 0.4040 - val_loss: 0.3778\n",
      "Epoch 9/100\n",
      "11610/11610 [==============================] - 0s 39us/sample - loss: 0.4007 - val_loss: 0.3779\n",
      "Epoch 10/100\n",
      "11610/11610 [==============================] - 0s 39us/sample - loss: 0.3977 - val_loss: 0.3733\n",
      "Epoch 11/100\n",
      "11610/11610 [==============================] - 0s 39us/sample - loss: 0.3948 - val_loss: 0.3733\n",
      "Epoch 12/100\n",
      "11610/11610 [==============================] - 0s 39us/sample - loss: 0.3921 - val_loss: 0.3669\n",
      "Epoch 13/100\n",
      "11610/11610 [==============================] - 0s 38us/sample - loss: 0.3896 - val_loss: 0.3725\n",
      "Epoch 14/100\n",
      "11610/11610 [==============================] - 0s 39us/sample - loss: 0.3874 - val_loss: 0.3620\n",
      "Epoch 15/100\n",
      "11610/11610 [==============================] - 0s 38us/sample - loss: 0.3848 - val_loss: 0.3725\n",
      "Epoch 16/100\n",
      "11610/11610 [==============================] - 0s 38us/sample - loss: 0.3826 - val_loss: 0.3619\n",
      "Epoch 17/100\n",
      "11610/11610 [==============================] - 0s 37us/sample - loss: 0.3807 - val_loss: 0.3693\n",
      "Epoch 18/100\n",
      "11610/11610 [==============================] - 0s 40us/sample - loss: 0.3783 - val_loss: 0.3569\n",
      "Epoch 19/100\n",
      "11610/11610 [==============================] - 0s 41us/sample - loss: 0.3765 - val_loss: 0.3529\n",
      "Epoch 20/100\n",
      "11610/11610 [==============================] - 0s 39us/sample - loss: 0.3746 - val_loss: 0.3521\n",
      "Epoch 21/100\n",
      "11610/11610 [==============================] - 0s 39us/sample - loss: 0.3729 - val_loss: 0.3510\n",
      "Epoch 22/100\n",
      "11610/11610 [==============================] - 0s 38us/sample - loss: 0.3712 - val_loss: 0.3503\n",
      "Epoch 23/100\n",
      "11610/11610 [==============================] - 0s 38us/sample - loss: 0.3695 - val_loss: 0.3521\n",
      "Epoch 24/100\n",
      "11610/11610 [==============================] - 0s 38us/sample - loss: 0.3683 - val_loss: 0.3457\n",
      "Epoch 25/100\n",
      "11610/11610 [==============================] - 0s 37us/sample - loss: 0.3669 - val_loss: 0.3567\n",
      "Epoch 26/100\n",
      "11610/11610 [==============================] - 0s 38us/sample - loss: 0.3654 - val_loss: 0.3743\n",
      "Epoch 27/100\n",
      "11610/11610 [==============================] - 0s 38us/sample - loss: 0.3645 - val_loss: 0.3489\n",
      "Epoch 28/100\n",
      "11610/11610 [==============================] - 0s 37us/sample - loss: 0.3630 - val_loss: 0.3635\n",
      "Epoch 29/100\n",
      "11610/11610 [==============================] - 0s 37us/sample - loss: 0.3619 - val_loss: 0.3723\n",
      "Epoch 30/100\n",
      "11610/11610 [==============================] - 0s 38us/sample - loss: 0.3609 - val_loss: 0.3439\n",
      "Epoch 31/100\n",
      "11610/11610 [==============================] - 0s 37us/sample - loss: 0.3597 - val_loss: 0.3738\n",
      "Epoch 32/100\n",
      "11610/11610 [==============================] - 0s 37us/sample - loss: 0.3588 - val_loss: 0.3493\n",
      "Epoch 33/100\n",
      "11610/11610 [==============================] - 0s 37us/sample - loss: 0.3578 - val_loss: 0.3388\n",
      "Epoch 34/100\n",
      "11610/11610 [==============================] - 0s 37us/sample - loss: 0.3567 - val_loss: 0.3542\n",
      "Epoch 35/100\n",
      "11610/11610 [==============================] - 0s 36us/sample - loss: 0.3559 - val_loss: 0.3429\n",
      "Epoch 36/100\n",
      "11610/11610 [==============================] - 0s 36us/sample - loss: 0.3550 - val_loss: 0.3372\n",
      "Epoch 37/100\n",
      "11610/11610 [==============================] - 0s 36us/sample - loss: 0.3540 - val_loss: 0.3815\n",
      "Epoch 38/100\n",
      "11610/11610 [==============================] - 0s 36us/sample - loss: 0.3535 - val_loss: 0.3610\n",
      "Epoch 39/100\n",
      "11610/11610 [==============================] - 0s 36us/sample - loss: 0.3526 - val_loss: 0.3331\n",
      "Epoch 40/100\n",
      "11610/11610 [==============================] - 0s 42us/sample - loss: 0.3518 - val_loss: 0.3453\n",
      "Epoch 41/100\n",
      "11610/11610 [==============================] - 1s 44us/sample - loss: 0.3511 - val_loss: 0.3586\n",
      "Epoch 42/100\n",
      "11610/11610 [==============================] - 0s 39us/sample - loss: 0.3506 - val_loss: 0.3305\n",
      "Epoch 43/100\n",
      "11610/11610 [==============================] - 0s 39us/sample - loss: 0.3497 - val_loss: 0.3713\n",
      "Epoch 44/100\n",
      "11610/11610 [==============================] - 1s 43us/sample - loss: 0.3493 - val_loss: 0.3290\n",
      "Epoch 45/100\n",
      "11610/11610 [==============================] - 1s 43us/sample - loss: 0.3485 - val_loss: 0.3875\n",
      "Epoch 46/100\n",
      "11610/11610 [==============================] - 0s 42us/sample - loss: 0.3480 - val_loss: 0.3419\n",
      "Epoch 47/100\n",
      "11610/11610 [==============================] - 0s 42us/sample - loss: 0.3473 - val_loss: 0.3268\n",
      "Epoch 48/100\n",
      "11610/11610 [==============================] - 0s 42us/sample - loss: 0.3468 - val_loss: 0.3281\n",
      "Epoch 49/100\n",
      "11610/11610 [==============================] - 0s 43us/sample - loss: 0.3459 - val_loss: 0.3585\n",
      "Epoch 50/100\n",
      "11610/11610 [==============================] - 0s 39us/sample - loss: 0.3456 - val_loss: 0.3545\n",
      "Epoch 51/100\n",
      "11610/11610 [==============================] - 0s 42us/sample - loss: 0.3451 - val_loss: 0.3433\n",
      "Epoch 52/100\n",
      "11610/11610 [==============================] - 0s 43us/sample - loss: 0.3447 - val_loss: 0.3314\n",
      "Epoch 53/100\n",
      "11610/11610 [==============================] - 0s 41us/sample - loss: 0.3439 - val_loss: 0.3732\n",
      "Epoch 54/100\n",
      "11610/11610 [==============================] - 0s 39us/sample - loss: 0.3436 - val_loss: 0.3286\n",
      "Epoch 55/100\n",
      "11610/11610 [==============================] - 0s 39us/sample - loss: 0.3431 - val_loss: 0.3345\n",
      "Epoch 56/100\n",
      "11610/11610 [==============================] - 0s 39us/sample - loss: 0.3425 - val_loss: 0.3303\n",
      "Epoch 57/100\n",
      "11610/11610 [==============================] - 0s 39us/sample - loss: 0.3420 - val_loss: 0.3652\n"
     ]
    }
   ],
   "source": [
    "model.compile(loss=\"mse\", optimizer=keras.optimizers.SGD(lr=1e-3))\n",
    "early_stopping_cb = keras.callbacks.EarlyStopping(patience=10,\n",
    "                                                  restore_best_weights=True)\n",
    "history = model.fit(X_train, y_train, epochs=100,\n",
    "                    validation_data=(X_valid, y_valid),\n",
    "                    callbacks=[checkpoint_cb, early_stopping_cb])\n",
    "mse_test = model.evaluate(X_test, y_test, verbose=0)"
   ]
  },
  {
   "cell_type": "markdown",
   "metadata": {},
   "source": [
    "If you need extra control, you can easily write your own custom callbacks. For example, the following custom callback will display the ratio between the validation loss and the training loss during training (e.g., to detect overfitting):"
   ]
  },
  {
   "cell_type": "code",
   "execution_count": 94,
   "metadata": {},
   "outputs": [],
   "source": [
    "class PrintValTrainRatioCallback(keras.callbacks.Callback):\n",
    "    def on_epoch_end(self, epoch, logs):\n",
    "        print(\"\\nval/train: {:.2f}\".format(logs[\"val_loss\"] / logs[\"loss\"]))"
   ]
  },
  {
   "cell_type": "code",
   "execution_count": 95,
   "metadata": {},
   "outputs": [
    {
     "name": "stdout",
     "output_type": "stream",
     "text": [
      "Train on 11610 samples, validate on 3870 samples\n",
      "10176/11610 [=========================>....] - ETA: 0s - loss: 0.3445\n",
      "val/train: 1.10\n",
      "11610/11610 [==============================] - 0s 40us/sample - loss: 0.3465 - val_loss: 0.3825\n"
     ]
    }
   ],
   "source": [
    "val_train_ratio_cb = PrintValTrainRatioCallback()\n",
    "history = model.fit(X_train, y_train, epochs=1,\n",
    "                    validation_data=(X_valid, y_valid),\n",
    "                    callbacks=[val_train_ratio_cb])"
   ]
  },
  {
   "cell_type": "markdown",
   "metadata": {},
   "source": [
    "You can implement:\n",
    "- `on_train_begin()`, `on_train_end()`, `on_epoch_begin()`, `on_epoch_begin()`, `on_batch_end()` and `on_batch_end()` (called by `fit()`)\n",
    "- `on_test_begin()`, `on_test_end()`, `on_test_batch_begin()`, or `on_test_batch_end()` (called by `evaluate()`), \n",
    "- `on_predict_begin()`, `on_pre dict_end()`, `on_predict_batch_begin()`, or `on_predict_batch_end()` (called by `predict()`)"
   ]
  },
  {
   "cell_type": "markdown",
   "metadata": {},
   "source": [
    "# TensorBoard"
   ]
  },
  {
   "cell_type": "markdown",
   "metadata": {},
   "source": [
    "`TensorBoard` is a great interactive visualization tool that you can use to view the learning curves during training, compare learning curves between multiple runs, visualize the computation graph, analyze training statistics, view images generated by your model, visualize complex multidimensional data projected down to 3D and automatically clustered for you, and more!"
   ]
  },
  {
   "cell_type": "code",
   "execution_count": 96,
   "metadata": {},
   "outputs": [],
   "source": [
    "root_logdir = os.path.join(os.curdir, \"my_logs\")"
   ]
  },
  {
   "cell_type": "code",
   "execution_count": 97,
   "metadata": {},
   "outputs": [
    {
     "data": {
      "text/plain": [
       "'./my_logs/run_2019_09_22-22_17_58'"
      ]
     },
     "execution_count": 97,
     "metadata": {},
     "output_type": "execute_result"
    }
   ],
   "source": [
    "def get_run_logdir():\n",
    "    import time\n",
    "    run_id = time.strftime(\"run_%Y_%m_%d-%H_%M_%S\")\n",
    "    return os.path.join(root_logdir, run_id)\n",
    "\n",
    "run_logdir = get_run_logdir()\n",
    "run_logdir"
   ]
  },
  {
   "cell_type": "code",
   "execution_count": 98,
   "metadata": {},
   "outputs": [],
   "source": [
    "keras.backend.clear_session()\n",
    "np.random.seed(42)\n",
    "tf.random.set_seed(42)"
   ]
  },
  {
   "cell_type": "code",
   "execution_count": 99,
   "metadata": {},
   "outputs": [],
   "source": [
    "model = keras.models.Sequential([\n",
    "    keras.layers.Dense(30, activation=\"relu\", input_shape=[8]),\n",
    "    keras.layers.Dense(30, activation=\"relu\"),\n",
    "    keras.layers.Dense(1)\n",
    "])    \n",
    "model.compile(loss=\"mse\", optimizer=keras.optimizers.SGD(lr=1e-3))"
   ]
  },
  {
   "cell_type": "code",
   "execution_count": 100,
   "metadata": {
    "scrolled": true
   },
   "outputs": [
    {
     "name": "stdout",
     "output_type": "stream",
     "text": [
      "Train on 11610 samples, validate on 3870 samples\n",
      "Epoch 1/30\n",
      "11610/11610 [==============================] - 1s 61us/sample - loss: 1.8631 - val_loss: 3.2403\n",
      "Epoch 2/30\n",
      "11610/11610 [==============================] - 0s 38us/sample - loss: 0.6723 - val_loss: 0.6939\n",
      "Epoch 3/30\n",
      "11610/11610 [==============================] - 0s 37us/sample - loss: 0.5927 - val_loss: 0.5531\n",
      "Epoch 4/30\n",
      "11610/11610 [==============================] - 0s 37us/sample - loss: 0.5550 - val_loss: 0.5519\n",
      "Epoch 5/30\n",
      "11610/11610 [==============================] - 0s 37us/sample - loss: 0.5278 - val_loss: 0.5715\n",
      "Epoch 6/30\n",
      "11610/11610 [==============================] - 0s 37us/sample - loss: 0.5032 - val_loss: 0.5591\n",
      "Epoch 7/30\n",
      "11610/11610 [==============================] - 0s 35us/sample - loss: 0.4863 - val_loss: 0.4593\n",
      "Epoch 8/30\n",
      "11610/11610 [==============================] - 0s 35us/sample - loss: 0.4701 - val_loss: 0.4651\n",
      "Epoch 9/30\n",
      "11610/11610 [==============================] - 0s 33us/sample - loss: 0.4586 - val_loss: 0.4392\n",
      "Epoch 10/30\n",
      "11610/11610 [==============================] - 0s 34us/sample - loss: 0.4476 - val_loss: 0.4257\n",
      "Epoch 11/30\n",
      "11610/11610 [==============================] - 0s 35us/sample - loss: 0.4391 - val_loss: 0.4122\n",
      "Epoch 12/30\n",
      "11610/11610 [==============================] - 0s 34us/sample - loss: 0.4316 - val_loss: 0.4052\n",
      "Epoch 13/30\n",
      "11610/11610 [==============================] - 0s 34us/sample - loss: 0.4255 - val_loss: 0.4025\n",
      "Epoch 14/30\n",
      "11610/11610 [==============================] - 0s 37us/sample - loss: 0.4203 - val_loss: 0.3962\n",
      "Epoch 15/30\n",
      "11610/11610 [==============================] - 0s 34us/sample - loss: 0.4154 - val_loss: 0.3906\n",
      "Epoch 16/30\n",
      "11610/11610 [==============================] - 0s 34us/sample - loss: 0.4110 - val_loss: 0.3923\n",
      "Epoch 17/30\n",
      "11610/11610 [==============================] - 0s 34us/sample - loss: 0.4076 - val_loss: 0.3851\n",
      "Epoch 18/30\n",
      "11610/11610 [==============================] - 0s 33us/sample - loss: 0.4036 - val_loss: 0.3802\n",
      "Epoch 19/30\n",
      "11610/11610 [==============================] - 0s 33us/sample - loss: 0.4007 - val_loss: 0.3744\n",
      "Epoch 20/30\n",
      "11610/11610 [==============================] - 0s 33us/sample - loss: 0.3976 - val_loss: 0.3716\n",
      "Epoch 21/30\n",
      "11610/11610 [==============================] - 0s 34us/sample - loss: 0.3950 - val_loss: 0.3709\n",
      "Epoch 22/30\n",
      "11610/11610 [==============================] - 0s 33us/sample - loss: 0.3922 - val_loss: 0.3663\n",
      "Epoch 23/30\n",
      "11610/11610 [==============================] - 0s 33us/sample - loss: 0.3896 - val_loss: 0.3668\n",
      "Epoch 24/30\n",
      "11610/11610 [==============================] - 0s 33us/sample - loss: 0.3874 - val_loss: 0.3627\n",
      "Epoch 25/30\n",
      "11610/11610 [==============================] - 0s 33us/sample - loss: 0.3850 - val_loss: 0.3675\n",
      "Epoch 26/30\n",
      "11610/11610 [==============================] - 0s 33us/sample - loss: 0.3826 - val_loss: 0.3703\n",
      "Epoch 27/30\n",
      "11610/11610 [==============================] - 0s 33us/sample - loss: 0.3807 - val_loss: 0.3560\n",
      "Epoch 28/30\n",
      "11610/11610 [==============================] - 0s 33us/sample - loss: 0.3784 - val_loss: 0.3667\n",
      "Epoch 29/30\n",
      "11610/11610 [==============================] - 0s 34us/sample - loss: 0.3764 - val_loss: 0.3633\n",
      "Epoch 30/30\n",
      "11610/11610 [==============================] - 0s 33us/sample - loss: 0.3746 - val_loss: 0.3514\n"
     ]
    }
   ],
   "source": [
    "tensorboard_cb = keras.callbacks.TensorBoard(run_logdir)\n",
    "history = model.fit(X_train, y_train, epochs=30,\n",
    "                    validation_data=(X_valid, y_valid),\n",
    "                    callbacks=[checkpoint_cb, tensorboard_cb])"
   ]
  },
  {
   "cell_type": "markdown",
   "metadata": {},
   "source": [
    "To start the TensorBoard server, one option is to open a terminal, if needed activate the virtualenv where you installed TensorBoard, go to this notebook's directory, then type:\n",
    "\n",
    "```bash\n",
    "$ tensorboard --logdir=./my_logs --port=6006\n",
    "```\n",
    "\n",
    "You can then open your web browser to [localhost:6006](http://localhost:6006) and use TensorBoard. Once you are done, press Ctrl-C in the terminal window, this will shutdown the TensorBoard server.\n",
    "\n",
    "Alternatively, you can load TensorBoard's Jupyter extension and run it like this:"
   ]
  },
  {
   "cell_type": "code",
   "execution_count": 101,
   "metadata": {},
   "outputs": [
    {
     "data": {
      "text/plain": [
       "Reusing TensorBoard on port 6006 (pid 26685), started 1:07:53 ago. (Use '!kill 26685' to kill it.)"
      ]
     },
     "metadata": {},
     "output_type": "display_data"
    },
    {
     "data": {
      "text/html": [
       "\n",
       "      <iframe id=\"tensorboard-frame-34be3c35d46872fd\" width=\"100%\" height=\"800\" frameborder=\"0\">\n",
       "      </iframe>\n",
       "      <script>\n",
       "        (function() {\n",
       "          const frame = document.getElementById(\"tensorboard-frame-34be3c35d46872fd\");\n",
       "          const url = new URL(\"/\", window.location);\n",
       "          url.port = 6006;\n",
       "          frame.src = url;\n",
       "        })();\n",
       "      </script>\n",
       "  "
      ],
      "text/plain": [
       "<IPython.core.display.HTML object>"
      ]
     },
     "metadata": {},
     "output_type": "display_data"
    }
   ],
   "source": [
    "%load_ext tensorboard\n",
    "%tensorboard --logdir=./my_logs --port=6006"
   ]
  },
  {
   "cell_type": "code",
   "execution_count": 102,
   "metadata": {},
   "outputs": [
    {
     "data": {
      "text/plain": [
       "'./my_logs/run_2019_09_22-22_18_10'"
      ]
     },
     "execution_count": 102,
     "metadata": {},
     "output_type": "execute_result"
    }
   ],
   "source": [
    "run_logdir2 = get_run_logdir()\n",
    "run_logdir2"
   ]
  },
  {
   "cell_type": "code",
   "execution_count": 103,
   "metadata": {},
   "outputs": [],
   "source": [
    "keras.backend.clear_session()\n",
    "np.random.seed(42)\n",
    "tf.random.set_seed(42)"
   ]
  },
  {
   "cell_type": "code",
   "execution_count": 104,
   "metadata": {},
   "outputs": [],
   "source": [
    "model = keras.models.Sequential([\n",
    "    keras.layers.Dense(30, activation=\"relu\", input_shape=[8]),\n",
    "    keras.layers.Dense(30, activation=\"relu\"),\n",
    "    keras.layers.Dense(1)\n",
    "])    \n",
    "# note that learning rate has changed from 0.001 to 0.05\n",
    "model.compile(loss=\"mse\", optimizer=keras.optimizers.SGD(lr=0.05))"
   ]
  },
  {
   "cell_type": "code",
   "execution_count": 105,
   "metadata": {},
   "outputs": [
    {
     "name": "stdout",
     "output_type": "stream",
     "text": [
      "Train on 11610 samples, validate on 3870 samples\n",
      "Epoch 1/30\n",
      "11610/11610 [==============================] - 1s 60us/sample - loss: 0.7860 - val_loss: 3.9608\n",
      "Epoch 2/30\n",
      "11610/11610 [==============================] - 0s 34us/sample - loss: 0.4406 - val_loss: 19.3299\n",
      "Epoch 3/30\n",
      "11610/11610 [==============================] - 0s 33us/sample - loss: 0.3807 - val_loss: 1.9256\n",
      "Epoch 4/30\n",
      "11610/11610 [==============================] - 0s 32us/sample - loss: 0.4085 - val_loss: 0.3695\n",
      "Epoch 5/30\n",
      "11610/11610 [==============================] - 0s 33us/sample - loss: 0.3784 - val_loss: 0.3267\n",
      "Epoch 6/30\n",
      "11610/11610 [==============================] - 0s 33us/sample - loss: 0.3587 - val_loss: 4.5474\n",
      "Epoch 7/30\n",
      "11610/11610 [==============================] - 0s 34us/sample - loss: 0.3898 - val_loss: 0.3186\n",
      "Epoch 8/30\n",
      "11610/11610 [==============================] - 0s 34us/sample - loss: 0.3448 - val_loss: 0.3265\n",
      "Epoch 9/30\n",
      "11610/11610 [==============================] - 0s 33us/sample - loss: 0.3374 - val_loss: 0.3110\n",
      "Epoch 10/30\n",
      "11610/11610 [==============================] - 0s 33us/sample - loss: 0.3353 - val_loss: 0.3112\n",
      "Epoch 11/30\n",
      "11610/11610 [==============================] - 0s 33us/sample - loss: 0.3520 - val_loss: 0.3231\n",
      "Epoch 12/30\n",
      "11610/11610 [==============================] - 0s 33us/sample - loss: 0.3376 - val_loss: 0.3217\n",
      "Epoch 13/30\n",
      "11610/11610 [==============================] - 0s 33us/sample - loss: 0.3266 - val_loss: 0.4437\n",
      "Epoch 14/30\n",
      "11610/11610 [==============================] - 0s 33us/sample - loss: 0.3256 - val_loss: 0.3286\n",
      "Epoch 15/30\n",
      "11610/11610 [==============================] - 0s 34us/sample - loss: 0.3192 - val_loss: 0.3212\n",
      "Epoch 16/30\n",
      "11610/11610 [==============================] - 0s 34us/sample - loss: 0.3165 - val_loss: 0.2979\n",
      "Epoch 17/30\n",
      "11610/11610 [==============================] - 0s 35us/sample - loss: 0.3089 - val_loss: 0.2963\n",
      "Epoch 18/30\n",
      "11610/11610 [==============================] - 0s 37us/sample - loss: 0.3059 - val_loss: 0.2995\n",
      "Epoch 19/30\n",
      "11610/11610 [==============================] - 0s 33us/sample - loss: 0.3030 - val_loss: 0.2844\n",
      "Epoch 20/30\n",
      "11610/11610 [==============================] - 0s 35us/sample - loss: 0.3012 - val_loss: 0.2842\n",
      "Epoch 21/30\n",
      "11610/11610 [==============================] - 0s 33us/sample - loss: 0.2978 - val_loss: 0.2955\n",
      "Epoch 22/30\n",
      "11610/11610 [==============================] - 0s 35us/sample - loss: 0.2947 - val_loss: 0.2878\n",
      "Epoch 23/30\n",
      "11610/11610 [==============================] - 0s 33us/sample - loss: 0.2909 - val_loss: 0.2924\n",
      "Epoch 24/30\n",
      "11610/11610 [==============================] - 0s 34us/sample - loss: 0.2908 - val_loss: 0.2821\n",
      "Epoch 25/30\n",
      "11610/11610 [==============================] - 0s 34us/sample - loss: 0.2907 - val_loss: 0.2790\n",
      "Epoch 26/30\n",
      "11610/11610 [==============================] - 0s 33us/sample - loss: 0.2858 - val_loss: 0.2810\n",
      "Epoch 27/30\n",
      "11610/11610 [==============================] - 0s 33us/sample - loss: 0.2870 - val_loss: 0.2797\n",
      "Epoch 28/30\n",
      "11610/11610 [==============================] - 0s 33us/sample - loss: 0.2838 - val_loss: 0.2886\n",
      "Epoch 29/30\n",
      "11610/11610 [==============================] - 0s 36us/sample - loss: 0.2894 - val_loss: 0.2927\n",
      "Epoch 30/30\n",
      "11610/11610 [==============================] - 0s 33us/sample - loss: 0.2835 - val_loss: 0.2728\n"
     ]
    }
   ],
   "source": [
    "tensorboard_cb = keras.callbacks.TensorBoard(run_logdir2)\n",
    "history = model.fit(X_train, y_train, epochs=30,\n",
    "                    validation_data=(X_valid, y_valid),\n",
    "                    callbacks=[checkpoint_cb, tensorboard_cb])"
   ]
  },
  {
   "cell_type": "code",
   "execution_count": 106,
   "metadata": {},
   "outputs": [
    {
     "data": {
      "text/plain": [
       "Reusing TensorBoard on port 6006 (pid 26685), started 1:08:05 ago. (Use '!kill 26685' to kill it.)"
      ]
     },
     "metadata": {},
     "output_type": "display_data"
    },
    {
     "data": {
      "text/html": [
       "\n",
       "      <iframe id=\"tensorboard-frame-728c666f53230618\" width=\"100%\" height=\"800\" frameborder=\"0\">\n",
       "      </iframe>\n",
       "      <script>\n",
       "        (function() {\n",
       "          const frame = document.getElementById(\"tensorboard-frame-728c666f53230618\");\n",
       "          const url = new URL(\"/\", window.location);\n",
       "          url.port = 6006;\n",
       "          frame.src = url;\n",
       "        })();\n",
       "      </script>\n",
       "  "
      ],
      "text/plain": [
       "<IPython.core.display.HTML object>"
      ]
     },
     "metadata": {},
     "output_type": "display_data"
    }
   ],
   "source": [
    "%reload_ext tensorboard\n",
    "%tensorboard --logdir=./my_logs --port=6006"
   ]
  },
  {
   "cell_type": "markdown",
   "metadata": {},
   "source": [
    "Notice how TensorBoard now sees two runs, and you can compare the learning curves.\n",
    "\n",
    "Check out the other available logging options:"
   ]
  },
  {
   "cell_type": "code",
   "execution_count": 107,
   "metadata": {},
   "outputs": [
    {
     "name": "stdout",
     "output_type": "stream",
     "text": [
      "Help on function __init__ in module tensorflow.python.keras.callbacks:\n",
      "\n",
      "__init__(self, log_dir='logs', histogram_freq=0, write_graph=True, write_images=False, update_freq='epoch', profile_batch=2, embeddings_freq=0, embeddings_metadata=None, **kwargs)\n",
      "    Initialize self.  See help(type(self)) for accurate signature.\n",
      "\n"
     ]
    }
   ],
   "source": [
    "help(keras.callbacks.TensorBoard.__init__)"
   ]
  },
  {
   "cell_type": "markdown",
   "metadata": {},
   "source": [
    "# Hyperparameter Tuning\n",
    "The flexibility of neural networks is also one of their main drawbacks: there are many hyperparameters to tweak. Not only can you use any imaginable network architecture, but even in a simple MLP you can change the number of layers, the number of neurons per layer, the type of activation function to use in each layer, the weight initialization logic, and much more.\n",
    "\n",
    "One option is to simply try __many combinations__ of hyperparameters and see which one works best on the validation set (or using `K-fold cross-validation`). For this, one approach is simply use `GridSearchCV` or `RandomizedSearchCV` to explore the hyperparameter space. For this, we need to __wrap our Keras models in objects that mimic regular Scikit-Learn regressors__. The first step is to create a function that will build and compile a Keras model, given a set of hyperparameters:"
   ]
  },
  {
   "cell_type": "code",
   "execution_count": 108,
   "metadata": {},
   "outputs": [],
   "source": [
    "keras.backend.clear_session()\n",
    "np.random.seed(42)\n",
    "tf.random.set_seed(42)"
   ]
  },
  {
   "cell_type": "code",
   "execution_count": 109,
   "metadata": {},
   "outputs": [],
   "source": [
    "def build_model(n_hidden=1, n_neurons=30, learning_rate=3e-3, input_shape=[8]):\n",
    "    model = keras.models.Sequential()\n",
    "    model.add(keras.layers.InputLayer(input_shape=input_shape))\n",
    "    for layer in range(n_hidden):\n",
    "        model.add(keras.layers.Dense(n_neurons, activation=\"relu\"))\n",
    "    model.add(keras.layers.Dense(1))\n",
    "    optimizer = keras.optimizers.SGD(lr=learning_rate)\n",
    "    model.compile(loss=\"mse\", optimizer=optimizer)\n",
    "    return model"
   ]
  },
  {
   "cell_type": "code",
   "execution_count": 110,
   "metadata": {},
   "outputs": [],
   "source": [
    "keras_reg = keras.wrappers.scikit_learn.KerasRegressor(build_model)"
   ]
  },
  {
   "cell_type": "code",
   "execution_count": 111,
   "metadata": {},
   "outputs": [
    {
     "name": "stdout",
     "output_type": "stream",
     "text": [
      "Train on 11610 samples, validate on 3870 samples\n",
      "Epoch 1/100\n",
      "11610/11610 [==============================] - 1s 56us/sample - loss: 1.1815 - val_loss: 20.7837\n",
      "Epoch 2/100\n",
      "11610/11610 [==============================] - 0s 32us/sample - loss: 0.7013 - val_loss: 0.6646\n",
      "Epoch 3/100\n",
      "11610/11610 [==============================] - 0s 37us/sample - loss: 0.5197 - val_loss: 0.5974\n",
      "Epoch 4/100\n",
      "11610/11610 [==============================] - 0s 32us/sample - loss: 0.4811 - val_loss: 0.5292\n",
      "Epoch 5/100\n",
      "11610/11610 [==============================] - 0s 32us/sample - loss: 0.4565 - val_loss: 0.4813\n",
      "Epoch 6/100\n",
      "11610/11610 [==============================] - 0s 32us/sample - loss: 0.4393 - val_loss: 0.4501\n",
      "Epoch 7/100\n",
      "11610/11610 [==============================] - 0s 31us/sample - loss: 0.4283 - val_loss: 0.4231\n",
      "Epoch 8/100\n",
      "11610/11610 [==============================] - 0s 32us/sample - loss: 0.4205 - val_loss: 0.4072\n",
      "Epoch 9/100\n",
      "11610/11610 [==============================] - 0s 31us/sample - loss: 0.4154 - val_loss: 0.3956\n",
      "Epoch 10/100\n",
      "11610/11610 [==============================] - 0s 31us/sample - loss: 0.4100 - val_loss: 0.3873\n",
      "Epoch 11/100\n",
      "11610/11610 [==============================] - 0s 31us/sample - loss: 0.4060 - val_loss: 0.3811\n",
      "Epoch 12/100\n",
      "11610/11610 [==============================] - 0s 31us/sample - loss: 0.4028 - val_loss: 0.3743\n",
      "Epoch 13/100\n",
      "11610/11610 [==============================] - 0s 31us/sample - loss: 0.3995 - val_loss: 0.3691\n",
      "Epoch 14/100\n",
      "11610/11610 [==============================] - 0s 32us/sample - loss: 0.3964 - val_loss: 0.3657\n",
      "Epoch 15/100\n",
      "11610/11610 [==============================] - 0s 35us/sample - loss: 0.3932 - val_loss: 0.3640\n",
      "Epoch 16/100\n",
      "11610/11610 [==============================] - 0s 34us/sample - loss: 0.3903 - val_loss: 0.3618\n",
      "Epoch 17/100\n",
      "11610/11610 [==============================] - 0s 31us/sample - loss: 0.3882 - val_loss: 0.3629\n",
      "Epoch 18/100\n",
      "11610/11610 [==============================] - 0s 32us/sample - loss: 0.3856 - val_loss: 0.3661\n",
      "Epoch 19/100\n",
      "11610/11610 [==============================] - 0s 32us/sample - loss: 0.3836 - val_loss: 0.3649\n",
      "Epoch 20/100\n",
      "11610/11610 [==============================] - 0s 31us/sample - loss: 0.3817 - val_loss: 0.3670\n",
      "Epoch 21/100\n",
      "11610/11610 [==============================] - 0s 31us/sample - loss: 0.3799 - val_loss: 0.3721\n",
      "Epoch 22/100\n",
      "11610/11610 [==============================] - 0s 31us/sample - loss: 0.3782 - val_loss: 0.3768\n",
      "Epoch 23/100\n",
      "11610/11610 [==============================] - 0s 31us/sample - loss: 0.3765 - val_loss: 0.3853\n",
      "Epoch 24/100\n",
      "11610/11610 [==============================] - 0s 31us/sample - loss: 0.3753 - val_loss: 0.3889\n",
      "Epoch 25/100\n",
      "11610/11610 [==============================] - 0s 31us/sample - loss: 0.3737 - val_loss: 0.3938\n",
      "Epoch 26/100\n",
      "11610/11610 [==============================] - 0s 32us/sample - loss: 0.3721 - val_loss: 0.3986\n"
     ]
    },
    {
     "data": {
      "text/plain": [
       "<tensorflow.python.keras.callbacks.History at 0x7fbd0cf6d5f8>"
      ]
     },
     "execution_count": 111,
     "metadata": {},
     "output_type": "execute_result"
    }
   ],
   "source": [
    "keras_reg.fit(X_train, y_train, epochs=100,\n",
    "              validation_data=(X_valid, y_valid),\n",
    "              callbacks=[keras.callbacks.EarlyStopping(patience=10)])"
   ]
  },
  {
   "cell_type": "code",
   "execution_count": 112,
   "metadata": {},
   "outputs": [
    {
     "data": {
      "text/plain": [
       "0.3710189660390218"
      ]
     },
     "execution_count": 112,
     "metadata": {},
     "output_type": "execute_result"
    }
   ],
   "source": [
    "mse_test = keras_reg.score(X_test, y_test, verbose=0)\n",
    "# the greater the better rule in grid search, so sign is fliped in score. \n",
    "-mse_test"
   ]
  },
  {
   "cell_type": "code",
   "execution_count": 113,
   "metadata": {},
   "outputs": [],
   "source": [
    "y_pred = keras_reg.predict(X_new)"
   ]
  },
  {
   "cell_type": "code",
   "execution_count": 114,
   "metadata": {},
   "outputs": [
    {
     "data": {
      "text/plain": [
       "array([0.6270607, 1.7558155, 3.7607713], dtype=float32)"
      ]
     },
     "execution_count": 114,
     "metadata": {},
     "output_type": "execute_result"
    }
   ],
   "source": [
    "y_pred"
   ]
  },
  {
   "cell_type": "code",
   "execution_count": 115,
   "metadata": {},
   "outputs": [
    {
     "data": {
      "text/plain": [
       "['__class__',\n",
       " '__delattr__',\n",
       " '__dict__',\n",
       " '__dir__',\n",
       " '__doc__',\n",
       " '__eq__',\n",
       " '__format__',\n",
       " '__ge__',\n",
       " '__getattribute__',\n",
       " '__gt__',\n",
       " '__hash__',\n",
       " '__init__',\n",
       " '__init_subclass__',\n",
       " '__le__',\n",
       " '__lt__',\n",
       " '__module__',\n",
       " '__ne__',\n",
       " '__new__',\n",
       " '__reduce__',\n",
       " '__reduce_ex__',\n",
       " '__repr__',\n",
       " '__setattr__',\n",
       " '__sizeof__',\n",
       " '__str__',\n",
       " '__subclasshook__',\n",
       " '__weakref__',\n",
       " '_keras_api_names',\n",
       " '_keras_api_names_v1',\n",
       " 'build_fn',\n",
       " 'check_params',\n",
       " 'filter_sk_params',\n",
       " 'fit',\n",
       " 'get_params',\n",
       " 'model',\n",
       " 'predict',\n",
       " 'score',\n",
       " 'set_params',\n",
       " 'sk_params']"
      ]
     },
     "execution_count": 115,
     "metadata": {},
     "output_type": "execute_result"
    }
   ],
   "source": [
    "dir(keras_reg)"
   ]
  },
  {
   "cell_type": "code",
   "execution_count": 118,
   "metadata": {},
   "outputs": [
    {
     "name": "stdout",
     "output_type": "stream",
     "text": [
      "Fitting 3 folds for each of 10 candidates, totalling 30 fits\n",
      "[CV] learning_rate=0.001683454924600351, n_hidden=0, n_neurons=15 ....\n",
      "Train on 7740 samples, validate on 3870 samples\n",
      "Epoch 1/100\n",
      "[Parallel(n_jobs=1)]: Using backend SequentialBackend with 1 concurrent workers.\n",
      "7740/7740 [==============================] - 0s 61us/sample - loss: 3.2642 - val_loss: 1.5723\n",
      "Epoch 2/100\n",
      "7740/7740 [==============================] - 0s 33us/sample - loss: 0.9817 - val_loss: 0.6565\n",
      "Epoch 3/100\n",
      "7740/7740 [==============================] - 0s 33us/sample - loss: 0.6195 - val_loss: 0.5280\n",
      "Epoch 4/100\n",
      "...\n",
      "Epoch 14/100\n",
      "7740/7740 [==============================] - 0s 34us/sample - loss: 0.5296 - val_loss: 0.6798\n",
      "Epoch 15/100\n",
      "7740/7740 [==============================] - 0s 39us/sample - loss: 0.5293 - val_loss: 0.6776\n",
      "3870/1\n",
      "...\n",
      "Epoch 66/100\n",
      "11610/11610 [==============================] - 0s 34us/sample - loss: 0.3365 - val_loss: 0.3162\n",
      "Epoch 67/100\n",
      "11610/11610 [==============================] - 0s 34us/sample - loss: 0.3141 - val_loss: 0.3902\n",
      "Epoch 68/100\n",
      "11610/11610 [==============================] - 0s 35us/sample - loss: 0.3177 - val_loss: 0.4805\n",
      "Epoch 69/100\n",
      "11610/11610 [==============================] - 0s 36us/sample - loss: 0.3111 - val_loss: 0.3044\n",
      "\n",
      "RandomizedSearchCV(cv=3, error_score='raise-deprecating',\n",
      "                   estimator=<tensorflow.python.keras.wrappers.scikit_learn.KerasRegressor object at 0x7fbcf959b860>,\n",
      "                   iid='warn', n_iter=10, n_jobs=None,\n",
      "                   param_distributions={'learning_rate': <scipy.stats._distn_infrastructure.rv_frozen object at 0x7fbcd0ebf630>,\n",
      "                                        'n_hidden': [0, 1, 2, 3],\n",
      "                                        'n_neurons': array([ 1,  2,  3,  4,  5,  6,  7,  8,  9, 10,...\n",
      "       18, 19, 20, 21, 22, 23, 24, 25, 26, 27, 28, 29, 30, 31, 32, 33, 34,\n",
      "       35, 36, 37, 38, 39, 40, 41, 42, 43, 44, 45, 46, 47, 48, 49, 50, 51,\n",
      "       52, 53, 54, 55, 56, 57, 58, 59, 60, 61, 62, 63, 64, 65, 66, 67, 68,\n",
      "       69, 70, 71, 72, 73, 74, 75, 76, 77, 78, 79, 80, 81, 82, 83, 84, 85,\n",
      "       86, 87, 88, 89, 90, 91, 92, 93, 94, 95, 96, 97, 98, 99])},\n",
      "                   pre_dispatch='2*n_jobs', random_state=None, refit=True,\n",
      "                   return_train_score=False, scoring=None, verbose=2)\n",
      "\n"
     ]
    }
   ],
   "source": [
    "from scipy.stats import reciprocal\n",
    "from sklearn.model_selection import RandomizedSearchCV\n",
    "\n",
    "param_distribs = {\n",
    "    \"n_hidden\": [0, 1, 2, 3],\n",
    "    \"n_neurons\": np.arange(1, 100),\n",
    "    \"learning_rate\": reciprocal(3e-4, 3e-2),\n",
    "}\n",
    "\n",
    "rnd_search_cv = RandomizedSearchCV(keras_reg, param_distribs, n_iter=10, cv=3, verbose=2)\n",
    "rnd_search_cv.fit(X_train, y_train, epochs=100,\n",
    "                  validation_data=(X_valid, y_valid),\n",
    "                  callbacks=[keras.callbacks.EarlyStopping(patience=10)])"
   ]
  },
  {
   "cell_type": "code",
   "execution_count": 119,
   "metadata": {},
   "outputs": [
    {
     "data": {
      "text/plain": [
       "{'learning_rate': 0.008339092654580042, 'n_hidden': 1, 'n_neurons': 38}"
      ]
     },
     "execution_count": 119,
     "metadata": {},
     "output_type": "execute_result"
    }
   ],
   "source": [
    "rnd_search_cv.best_params_"
   ]
  },
  {
   "cell_type": "code",
   "execution_count": 120,
   "metadata": {},
   "outputs": [
    {
     "data": {
      "text/plain": [
       "-0.3456832199775382"
      ]
     },
     "execution_count": 120,
     "metadata": {},
     "output_type": "execute_result"
    }
   ],
   "source": [
    "rnd_search_cv.best_score_"
   ]
  },
  {
   "cell_type": "code",
   "execution_count": 121,
   "metadata": {},
   "outputs": [
    {
     "data": {
      "text/plain": [
       "<tensorflow.python.keras.wrappers.scikit_learn.KerasRegressor at 0x7fbcd0ec0cf8>"
      ]
     },
     "execution_count": 121,
     "metadata": {},
     "output_type": "execute_result"
    }
   ],
   "source": [
    "rnd_search_cv.best_estimator_"
   ]
  },
  {
   "cell_type": "code",
   "execution_count": 124,
   "metadata": {
    "scrolled": true
   },
   "outputs": [
    {
     "name": "stdout",
     "output_type": "stream",
     "text": [
      "...==============================] - 0s 21us/sample - loss: 0.2291\n",
      "Out[123]:\n",
      "-0.3409391568266144\n"
     ]
    }
   ],
   "source": [
    "# rnd_search_cv.score(X_test, y_test)\n",
    "print(\"\"\"...==============================] - 0s 21us/sample - loss: 0.2291\n",
    "Out[123]:\n",
    "-0.3409391568266144\"\"\")"
   ]
  },
  {
   "cell_type": "code",
   "execution_count": 125,
   "metadata": {},
   "outputs": [
    {
     "data": {
      "text/plain": [
       "<tensorflow.python.keras.engine.sequential.Sequential at 0x7fbd0da63e48>"
      ]
     },
     "execution_count": 125,
     "metadata": {},
     "output_type": "execute_result"
    }
   ],
   "source": [
    "model = rnd_search_cv.best_estimator_.model\n",
    "model"
   ]
  },
  {
   "cell_type": "code",
   "execution_count": 126,
   "metadata": {},
   "outputs": [
    {
     "data": {
      "text/plain": [
       "0.3409391568266144"
      ]
     },
     "execution_count": 126,
     "metadata": {},
     "output_type": "execute_result"
    }
   ],
   "source": [
    "model.evaluate(X_test, y_test, verbose=0) "
   ]
  },
  {
   "cell_type": "code",
   "execution_count": null,
   "metadata": {},
   "outputs": [],
   "source": []
  }
 ],
 "metadata": {
  "kernelspec": {
   "display_name": "Python 3",
   "language": "python",
   "name": "python3"
  },
  "language_info": {
   "codemirror_mode": {
    "name": "ipython",
    "version": 3
   },
   "file_extension": ".py",
   "mimetype": "text/x-python",
   "name": "python",
   "nbconvert_exporter": "python",
   "pygments_lexer": "ipython3",
   "version": "3.6.8"
  }
 },
 "nbformat": 4,
 "nbformat_minor": 2
}
